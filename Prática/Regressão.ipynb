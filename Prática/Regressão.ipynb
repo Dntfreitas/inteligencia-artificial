{
 "nbformat": 4,
 "nbformat_minor": 0,
 "metadata": {
  "colab": {
   "provenance": [],
   "collapsed_sections": [
    "2xPObaa53vfR"
   ]
  },
  "kernelspec": {
   "name": "python3",
   "display_name": "Python 3"
  },
  "language_info": {
   "name": "python"
  }
 },
 "cells": [
  {
   "cell_type": "markdown",
   "source": [
    "# Importação das bibliotecas necessárias"
   ],
   "metadata": {
    "id": "Aa8EZgHK2w-D"
   }
  },
  {
   "cell_type": "code",
   "execution_count": 1,
   "metadata": {
    "id": "6NNnDrdiza1m"
   },
   "outputs": [
    {
     "ename": "ModuleNotFoundError",
     "evalue": "No module named 'tensorflow'",
     "output_type": "error",
     "traceback": [
      "\u001B[0;31m---------------------------------------------------------------------------\u001B[0m",
      "\u001B[0;31mModuleNotFoundError\u001B[0m                       Traceback (most recent call last)",
      "Input \u001B[0;32mIn [1]\u001B[0m, in \u001B[0;36m<cell line: 5>\u001B[0;34m()\u001B[0m\n\u001B[1;32m      2\u001B[0m \u001B[38;5;28;01mimport\u001B[39;00m \u001B[38;5;21;01mpandas\u001B[39;00m \u001B[38;5;28;01mas\u001B[39;00m \u001B[38;5;21;01mpd\u001B[39;00m\n\u001B[1;32m      4\u001B[0m \u001B[38;5;28;01mimport\u001B[39;00m \u001B[38;5;21;01mmatplotlib\u001B[39;00m\u001B[38;5;21;01m.\u001B[39;00m\u001B[38;5;21;01mpyplot\u001B[39;00m \u001B[38;5;28;01mas\u001B[39;00m \u001B[38;5;21;01mplt\u001B[39;00m\n\u001B[0;32m----> 5\u001B[0m \u001B[38;5;28;01mimport\u001B[39;00m \u001B[38;5;21;01mtensorflow\u001B[39;00m \u001B[38;5;28;01mas\u001B[39;00m \u001B[38;5;21;01mtf\u001B[39;00m\n\u001B[1;32m      6\u001B[0m \u001B[38;5;28;01mfrom\u001B[39;00m \u001B[38;5;21;01msklearn\u001B[39;00m \u001B[38;5;28;01mimport\u001B[39;00m preprocessing\n\u001B[1;32m      7\u001B[0m \u001B[38;5;28;01mfrom\u001B[39;00m \u001B[38;5;21;01msklearn\u001B[39;00m\u001B[38;5;21;01m.\u001B[39;00m\u001B[38;5;21;01mdatasets\u001B[39;00m \u001B[38;5;28;01mimport\u001B[39;00m fetch_california_housing\n",
      "\u001B[0;31mModuleNotFoundError\u001B[0m: No module named 'tensorflow'"
     ]
    }
   ],
   "source": [
    "import pandas as pd\n",
    "\n",
    "import matplotlib.pyplot as plt\n",
    "import tensorflow as tf\n",
    "from sklearn import preprocessing\n",
    "from sklearn.datasets import fetch_california_housing\n",
    "from sklearn.model_selection import train_test_split\n",
    "\n",
    "import seaborn as sns\n",
    "\n",
    "sns.set()"
   ]
  },
  {
   "cell_type": "markdown",
   "source": [
    "# **Passo 1**: Obter dados\n",
    "\n",
    "Neste passo, vamos obter o conjunto de dados, e analisar as _features_. O objetivo é usar as características (i.e., _features_) das casas para predizer o valor médio das casas (expresso em centenas de milhares de dólares).\n",
    "\n"
   ],
   "metadata": {
    "id": "2xPObaa53vfR"
   }
  },
  {
   "cell_type": "markdown",
   "source": [
    "**Features:**\n",
    "  - MedInc        median income in block\n",
    "  - HouseAge      median house age in block\n",
    "  - AveRooms      average number of rooms\n",
    "  - AveBedrms     average number of bedrooms<\n",
    "  - Population    block population\n",
    "  - AveOccup      average house occupancy\n",
    "  - Latitude      house block latitude\n",
    "  - Longitude     house block longitude"
   ],
   "metadata": {
    "id": "N8ialCyb5T-5"
   }
  },
  {
   "cell_type": "code",
   "source": [
    "X, y = fetch_california_housing(return_X_y=True, as_frame=True)"
   ],
   "metadata": {
    "id": "XHKPhskY2wUT"
   },
   "execution_count": 2,
   "outputs": []
  },
  {
   "cell_type": "code",
   "source": [
    "X.head()"
   ],
   "metadata": {
    "colab": {
     "base_uri": "https://localhost:8080/",
     "height": 266
    },
    "id": "0c_f8HRc8o11",
    "outputId": "5cb01156-a496-4063-8237-b8883b7dff29"
   },
   "execution_count": 3,
   "outputs": [
    {
     "output_type": "execute_result",
     "data": {
      "text/plain": [
       "   MedInc  HouseAge  AveRooms  AveBedrms  Population  AveOccup  Latitude  \\\n",
       "0  8.3252      41.0  6.984127   1.023810       322.0  2.555556     37.88   \n",
       "1  8.3014      21.0  6.238137   0.971880      2401.0  2.109842     37.86   \n",
       "2  7.2574      52.0  8.288136   1.073446       496.0  2.802260     37.85   \n",
       "3  5.6431      52.0  5.817352   1.073059       558.0  2.547945     37.85   \n",
       "4  3.8462      52.0  6.281853   1.081081       565.0  2.181467     37.85   \n",
       "\n",
       "   Longitude  \n",
       "0    -122.23  \n",
       "1    -122.22  \n",
       "2    -122.24  \n",
       "3    -122.25  \n",
       "4    -122.25  "
      ],
      "text/html": [
       "\n",
       "  <div id=\"df-cf25feea-3a81-4c61-83d5-c43774831444\">\n",
       "    <div class=\"colab-df-container\">\n",
       "      <div>\n",
       "<style scoped>\n",
       "    .dataframe tbody tr th:only-of-type {\n",
       "        vertical-align: middle;\n",
       "    }\n",
       "\n",
       "    .dataframe tbody tr th {\n",
       "        vertical-align: top;\n",
       "    }\n",
       "\n",
       "    .dataframe thead th {\n",
       "        text-align: right;\n",
       "    }\n",
       "</style>\n",
       "<table border=\"1\" class=\"dataframe\">\n",
       "  <thead>\n",
       "    <tr style=\"text-align: right;\">\n",
       "      <th></th>\n",
       "      <th>MedInc</th>\n",
       "      <th>HouseAge</th>\n",
       "      <th>AveRooms</th>\n",
       "      <th>AveBedrms</th>\n",
       "      <th>Population</th>\n",
       "      <th>AveOccup</th>\n",
       "      <th>Latitude</th>\n",
       "      <th>Longitude</th>\n",
       "    </tr>\n",
       "  </thead>\n",
       "  <tbody>\n",
       "    <tr>\n",
       "      <th>0</th>\n",
       "      <td>8.3252</td>\n",
       "      <td>41.0</td>\n",
       "      <td>6.984127</td>\n",
       "      <td>1.023810</td>\n",
       "      <td>322.0</td>\n",
       "      <td>2.555556</td>\n",
       "      <td>37.88</td>\n",
       "      <td>-122.23</td>\n",
       "    </tr>\n",
       "    <tr>\n",
       "      <th>1</th>\n",
       "      <td>8.3014</td>\n",
       "      <td>21.0</td>\n",
       "      <td>6.238137</td>\n",
       "      <td>0.971880</td>\n",
       "      <td>2401.0</td>\n",
       "      <td>2.109842</td>\n",
       "      <td>37.86</td>\n",
       "      <td>-122.22</td>\n",
       "    </tr>\n",
       "    <tr>\n",
       "      <th>2</th>\n",
       "      <td>7.2574</td>\n",
       "      <td>52.0</td>\n",
       "      <td>8.288136</td>\n",
       "      <td>1.073446</td>\n",
       "      <td>496.0</td>\n",
       "      <td>2.802260</td>\n",
       "      <td>37.85</td>\n",
       "      <td>-122.24</td>\n",
       "    </tr>\n",
       "    <tr>\n",
       "      <th>3</th>\n",
       "      <td>5.6431</td>\n",
       "      <td>52.0</td>\n",
       "      <td>5.817352</td>\n",
       "      <td>1.073059</td>\n",
       "      <td>558.0</td>\n",
       "      <td>2.547945</td>\n",
       "      <td>37.85</td>\n",
       "      <td>-122.25</td>\n",
       "    </tr>\n",
       "    <tr>\n",
       "      <th>4</th>\n",
       "      <td>3.8462</td>\n",
       "      <td>52.0</td>\n",
       "      <td>6.281853</td>\n",
       "      <td>1.081081</td>\n",
       "      <td>565.0</td>\n",
       "      <td>2.181467</td>\n",
       "      <td>37.85</td>\n",
       "      <td>-122.25</td>\n",
       "    </tr>\n",
       "  </tbody>\n",
       "</table>\n",
       "</div>\n",
       "      <button class=\"colab-df-convert\" onclick=\"convertToInteractive('df-cf25feea-3a81-4c61-83d5-c43774831444')\"\n",
       "              title=\"Convert this dataframe to an interactive table.\"\n",
       "              style=\"display:none;\">\n",
       "        \n",
       "  <svg xmlns=\"http://www.w3.org/2000/svg\" height=\"24px\"viewBox=\"0 0 24 24\"\n",
       "       width=\"24px\">\n",
       "    <path d=\"M0 0h24v24H0V0z\" fill=\"none\"/>\n",
       "    <path d=\"M18.56 5.44l.94 2.06.94-2.06 2.06-.94-2.06-.94-.94-2.06-.94 2.06-2.06.94zm-11 1L8.5 8.5l.94-2.06 2.06-.94-2.06-.94L8.5 2.5l-.94 2.06-2.06.94zm10 10l.94 2.06.94-2.06 2.06-.94-2.06-.94-.94-2.06-.94 2.06-2.06.94z\"/><path d=\"M17.41 7.96l-1.37-1.37c-.4-.4-.92-.59-1.43-.59-.52 0-1.04.2-1.43.59L10.3 9.45l-7.72 7.72c-.78.78-.78 2.05 0 2.83L4 21.41c.39.39.9.59 1.41.59.51 0 1.02-.2 1.41-.59l7.78-7.78 2.81-2.81c.8-.78.8-2.07 0-2.86zM5.41 20L4 18.59l7.72-7.72 1.47 1.35L5.41 20z\"/>\n",
       "  </svg>\n",
       "      </button>\n",
       "      \n",
       "  <style>\n",
       "    .colab-df-container {\n",
       "      display:flex;\n",
       "      flex-wrap:wrap;\n",
       "      gap: 12px;\n",
       "    }\n",
       "\n",
       "    .colab-df-convert {\n",
       "      background-color: #E8F0FE;\n",
       "      border: none;\n",
       "      border-radius: 50%;\n",
       "      cursor: pointer;\n",
       "      display: none;\n",
       "      fill: #1967D2;\n",
       "      height: 32px;\n",
       "      padding: 0 0 0 0;\n",
       "      width: 32px;\n",
       "    }\n",
       "\n",
       "    .colab-df-convert:hover {\n",
       "      background-color: #E2EBFA;\n",
       "      box-shadow: 0px 1px 2px rgba(60, 64, 67, 0.3), 0px 1px 3px 1px rgba(60, 64, 67, 0.15);\n",
       "      fill: #174EA6;\n",
       "    }\n",
       "\n",
       "    [theme=dark] .colab-df-convert {\n",
       "      background-color: #3B4455;\n",
       "      fill: #D2E3FC;\n",
       "    }\n",
       "\n",
       "    [theme=dark] .colab-df-convert:hover {\n",
       "      background-color: #434B5C;\n",
       "      box-shadow: 0px 1px 3px 1px rgba(0, 0, 0, 0.15);\n",
       "      filter: drop-shadow(0px 1px 2px rgba(0, 0, 0, 0.3));\n",
       "      fill: #FFFFFF;\n",
       "    }\n",
       "  </style>\n",
       "\n",
       "      <script>\n",
       "        const buttonEl =\n",
       "          document.querySelector('#df-cf25feea-3a81-4c61-83d5-c43774831444 button.colab-df-convert');\n",
       "        buttonEl.style.display =\n",
       "          google.colab.kernel.accessAllowed ? 'block' : 'none';\n",
       "\n",
       "        async function convertToInteractive(key) {\n",
       "          const element = document.querySelector('#df-cf25feea-3a81-4c61-83d5-c43774831444');\n",
       "          const dataTable =\n",
       "            await google.colab.kernel.invokeFunction('convertToInteractive',\n",
       "                                                     [key], {});\n",
       "          if (!dataTable) return;\n",
       "\n",
       "          const docLinkHtml = 'Like what you see? Visit the ' +\n",
       "            '<a target=\"_blank\" href=https://colab.research.google.com/notebooks/data_table.ipynb>data table notebook</a>'\n",
       "            + ' to learn more about interactive tables.';\n",
       "          element.innerHTML = '';\n",
       "          dataTable['output_type'] = 'display_data';\n",
       "          await google.colab.output.renderOutput(dataTable, element);\n",
       "          const docLink = document.createElement('div');\n",
       "          docLink.innerHTML = docLinkHtml;\n",
       "          element.appendChild(docLink);\n",
       "        }\n",
       "      </script>\n",
       "    </div>\n",
       "  </div>\n",
       "  "
      ]
     },
     "metadata": {},
     "execution_count": 3
    }
   ]
  },
  {
   "cell_type": "code",
   "source": [
    "y.head()"
   ],
   "metadata": {
    "colab": {
     "base_uri": "https://localhost:8080/"
    },
    "id": "RYXA6bTE8qmc",
    "outputId": "1b64ef15-c421-4cf0-968b-13afc09fe6ec"
   },
   "execution_count": 4,
   "outputs": [
    {
     "output_type": "execute_result",
     "data": {
      "text/plain": [
       "0    4.526\n",
       "1    3.585\n",
       "2    3.521\n",
       "3    3.413\n",
       "4    3.422\n",
       "Name: MedHouseVal, dtype: float64"
      ]
     },
     "metadata": {},
     "execution_count": 4
    }
   ]
  },
  {
   "cell_type": "code",
   "source": [
    "X.describe()  # podemos usar para detetar outliers/dados inválidos"
   ],
   "metadata": {
    "colab": {
     "base_uri": "https://localhost:8080/",
     "height": 357
    },
    "id": "gmp-mLGy296A",
    "outputId": "b02e16a9-877a-4c31-f125-54a30f1c78e3"
   },
   "execution_count": 5,
   "outputs": [
    {
     "output_type": "execute_result",
     "data": {
      "text/plain": [
       "             MedInc      HouseAge      AveRooms     AveBedrms    Population  \\\n",
       "count  20640.000000  20640.000000  20640.000000  20640.000000  20640.000000   \n",
       "mean       3.870671     28.639486      5.429000      1.096675   1425.476744   \n",
       "std        1.899822     12.585558      2.474173      0.473911   1132.462122   \n",
       "min        0.499900      1.000000      0.846154      0.333333      3.000000   \n",
       "25%        2.563400     18.000000      4.440716      1.006079    787.000000   \n",
       "50%        3.534800     29.000000      5.229129      1.048780   1166.000000   \n",
       "75%        4.743250     37.000000      6.052381      1.099526   1725.000000   \n",
       "max       15.000100     52.000000    141.909091     34.066667  35682.000000   \n",
       "\n",
       "           AveOccup      Latitude     Longitude  \n",
       "count  20640.000000  20640.000000  20640.000000  \n",
       "mean       3.070655     35.631861   -119.569704  \n",
       "std       10.386050      2.135952      2.003532  \n",
       "min        0.692308     32.540000   -124.350000  \n",
       "25%        2.429741     33.930000   -121.800000  \n",
       "50%        2.818116     34.260000   -118.490000  \n",
       "75%        3.282261     37.710000   -118.010000  \n",
       "max     1243.333333     41.950000   -114.310000  "
      ],
      "text/html": [
       "\n",
       "  <div id=\"df-bd6b864a-99aa-4e94-bfa7-4d29f944e5c1\">\n",
       "    <div class=\"colab-df-container\">\n",
       "      <div>\n",
       "<style scoped>\n",
       "    .dataframe tbody tr th:only-of-type {\n",
       "        vertical-align: middle;\n",
       "    }\n",
       "\n",
       "    .dataframe tbody tr th {\n",
       "        vertical-align: top;\n",
       "    }\n",
       "\n",
       "    .dataframe thead th {\n",
       "        text-align: right;\n",
       "    }\n",
       "</style>\n",
       "<table border=\"1\" class=\"dataframe\">\n",
       "  <thead>\n",
       "    <tr style=\"text-align: right;\">\n",
       "      <th></th>\n",
       "      <th>MedInc</th>\n",
       "      <th>HouseAge</th>\n",
       "      <th>AveRooms</th>\n",
       "      <th>AveBedrms</th>\n",
       "      <th>Population</th>\n",
       "      <th>AveOccup</th>\n",
       "      <th>Latitude</th>\n",
       "      <th>Longitude</th>\n",
       "    </tr>\n",
       "  </thead>\n",
       "  <tbody>\n",
       "    <tr>\n",
       "      <th>count</th>\n",
       "      <td>20640.000000</td>\n",
       "      <td>20640.000000</td>\n",
       "      <td>20640.000000</td>\n",
       "      <td>20640.000000</td>\n",
       "      <td>20640.000000</td>\n",
       "      <td>20640.000000</td>\n",
       "      <td>20640.000000</td>\n",
       "      <td>20640.000000</td>\n",
       "    </tr>\n",
       "    <tr>\n",
       "      <th>mean</th>\n",
       "      <td>3.870671</td>\n",
       "      <td>28.639486</td>\n",
       "      <td>5.429000</td>\n",
       "      <td>1.096675</td>\n",
       "      <td>1425.476744</td>\n",
       "      <td>3.070655</td>\n",
       "      <td>35.631861</td>\n",
       "      <td>-119.569704</td>\n",
       "    </tr>\n",
       "    <tr>\n",
       "      <th>std</th>\n",
       "      <td>1.899822</td>\n",
       "      <td>12.585558</td>\n",
       "      <td>2.474173</td>\n",
       "      <td>0.473911</td>\n",
       "      <td>1132.462122</td>\n",
       "      <td>10.386050</td>\n",
       "      <td>2.135952</td>\n",
       "      <td>2.003532</td>\n",
       "    </tr>\n",
       "    <tr>\n",
       "      <th>min</th>\n",
       "      <td>0.499900</td>\n",
       "      <td>1.000000</td>\n",
       "      <td>0.846154</td>\n",
       "      <td>0.333333</td>\n",
       "      <td>3.000000</td>\n",
       "      <td>0.692308</td>\n",
       "      <td>32.540000</td>\n",
       "      <td>-124.350000</td>\n",
       "    </tr>\n",
       "    <tr>\n",
       "      <th>25%</th>\n",
       "      <td>2.563400</td>\n",
       "      <td>18.000000</td>\n",
       "      <td>4.440716</td>\n",
       "      <td>1.006079</td>\n",
       "      <td>787.000000</td>\n",
       "      <td>2.429741</td>\n",
       "      <td>33.930000</td>\n",
       "      <td>-121.800000</td>\n",
       "    </tr>\n",
       "    <tr>\n",
       "      <th>50%</th>\n",
       "      <td>3.534800</td>\n",
       "      <td>29.000000</td>\n",
       "      <td>5.229129</td>\n",
       "      <td>1.048780</td>\n",
       "      <td>1166.000000</td>\n",
       "      <td>2.818116</td>\n",
       "      <td>34.260000</td>\n",
       "      <td>-118.490000</td>\n",
       "    </tr>\n",
       "    <tr>\n",
       "      <th>75%</th>\n",
       "      <td>4.743250</td>\n",
       "      <td>37.000000</td>\n",
       "      <td>6.052381</td>\n",
       "      <td>1.099526</td>\n",
       "      <td>1725.000000</td>\n",
       "      <td>3.282261</td>\n",
       "      <td>37.710000</td>\n",
       "      <td>-118.010000</td>\n",
       "    </tr>\n",
       "    <tr>\n",
       "      <th>max</th>\n",
       "      <td>15.000100</td>\n",
       "      <td>52.000000</td>\n",
       "      <td>141.909091</td>\n",
       "      <td>34.066667</td>\n",
       "      <td>35682.000000</td>\n",
       "      <td>1243.333333</td>\n",
       "      <td>41.950000</td>\n",
       "      <td>-114.310000</td>\n",
       "    </tr>\n",
       "  </tbody>\n",
       "</table>\n",
       "</div>\n",
       "      <button class=\"colab-df-convert\" onclick=\"convertToInteractive('df-bd6b864a-99aa-4e94-bfa7-4d29f944e5c1')\"\n",
       "              title=\"Convert this dataframe to an interactive table.\"\n",
       "              style=\"display:none;\">\n",
       "        \n",
       "  <svg xmlns=\"http://www.w3.org/2000/svg\" height=\"24px\"viewBox=\"0 0 24 24\"\n",
       "       width=\"24px\">\n",
       "    <path d=\"M0 0h24v24H0V0z\" fill=\"none\"/>\n",
       "    <path d=\"M18.56 5.44l.94 2.06.94-2.06 2.06-.94-2.06-.94-.94-2.06-.94 2.06-2.06.94zm-11 1L8.5 8.5l.94-2.06 2.06-.94-2.06-.94L8.5 2.5l-.94 2.06-2.06.94zm10 10l.94 2.06.94-2.06 2.06-.94-2.06-.94-.94-2.06-.94 2.06-2.06.94z\"/><path d=\"M17.41 7.96l-1.37-1.37c-.4-.4-.92-.59-1.43-.59-.52 0-1.04.2-1.43.59L10.3 9.45l-7.72 7.72c-.78.78-.78 2.05 0 2.83L4 21.41c.39.39.9.59 1.41.59.51 0 1.02-.2 1.41-.59l7.78-7.78 2.81-2.81c.8-.78.8-2.07 0-2.86zM5.41 20L4 18.59l7.72-7.72 1.47 1.35L5.41 20z\"/>\n",
       "  </svg>\n",
       "      </button>\n",
       "      \n",
       "  <style>\n",
       "    .colab-df-container {\n",
       "      display:flex;\n",
       "      flex-wrap:wrap;\n",
       "      gap: 12px;\n",
       "    }\n",
       "\n",
       "    .colab-df-convert {\n",
       "      background-color: #E8F0FE;\n",
       "      border: none;\n",
       "      border-radius: 50%;\n",
       "      cursor: pointer;\n",
       "      display: none;\n",
       "      fill: #1967D2;\n",
       "      height: 32px;\n",
       "      padding: 0 0 0 0;\n",
       "      width: 32px;\n",
       "    }\n",
       "\n",
       "    .colab-df-convert:hover {\n",
       "      background-color: #E2EBFA;\n",
       "      box-shadow: 0px 1px 2px rgba(60, 64, 67, 0.3), 0px 1px 3px 1px rgba(60, 64, 67, 0.15);\n",
       "      fill: #174EA6;\n",
       "    }\n",
       "\n",
       "    [theme=dark] .colab-df-convert {\n",
       "      background-color: #3B4455;\n",
       "      fill: #D2E3FC;\n",
       "    }\n",
       "\n",
       "    [theme=dark] .colab-df-convert:hover {\n",
       "      background-color: #434B5C;\n",
       "      box-shadow: 0px 1px 3px 1px rgba(0, 0, 0, 0.15);\n",
       "      filter: drop-shadow(0px 1px 2px rgba(0, 0, 0, 0.3));\n",
       "      fill: #FFFFFF;\n",
       "    }\n",
       "  </style>\n",
       "\n",
       "      <script>\n",
       "        const buttonEl =\n",
       "          document.querySelector('#df-bd6b864a-99aa-4e94-bfa7-4d29f944e5c1 button.colab-df-convert');\n",
       "        buttonEl.style.display =\n",
       "          google.colab.kernel.accessAllowed ? 'block' : 'none';\n",
       "\n",
       "        async function convertToInteractive(key) {\n",
       "          const element = document.querySelector('#df-bd6b864a-99aa-4e94-bfa7-4d29f944e5c1');\n",
       "          const dataTable =\n",
       "            await google.colab.kernel.invokeFunction('convertToInteractive',\n",
       "                                                     [key], {});\n",
       "          if (!dataTable) return;\n",
       "\n",
       "          const docLinkHtml = 'Like what you see? Visit the ' +\n",
       "            '<a target=\"_blank\" href=https://colab.research.google.com/notebooks/data_table.ipynb>data table notebook</a>'\n",
       "            + ' to learn more about interactive tables.';\n",
       "          element.innerHTML = '';\n",
       "          dataTable['output_type'] = 'display_data';\n",
       "          await google.colab.output.renderOutput(dataTable, element);\n",
       "          const docLink = document.createElement('div');\n",
       "          docLink.innerHTML = docLinkHtml;\n",
       "          element.appendChild(docLink);\n",
       "        }\n",
       "      </script>\n",
       "    </div>\n",
       "  </div>\n",
       "  "
      ]
     },
     "metadata": {},
     "execution_count": 5
    }
   ]
  },
  {
   "cell_type": "markdown",
   "source": [
    "# **Passo 2 e 3**: Pré-processamento dos dados e preparação dos dados"
   ],
   "metadata": {
    "id": "zn0JVPS6Afgv"
   }
  },
  {
   "cell_type": "markdown",
   "source": [
    "Vamos fazer uma análise exploratória dos dados para percebermos as _features_ de interesse."
   ],
   "metadata": {
    "id": "ut9ycOHqqUpE"
   }
  },
  {
   "cell_type": "code",
   "source": [
    "q = 6\n",
    "feature = 'Longitude'  #@param ['MedInc', 'HouseAge', 'AveRooms', 'AveBedrms', 'Population', 'AveOccup', 'Latitude', 'Longitude']\n",
    "\n",
    "dis_value = pd.qcut(y, q, labels=False)\n",
    "df = pd.DataFrame([X[feature], dis_value]).T\n",
    "ax = df[df['MedHouseVal'] == 0].plot.density(x='MedHouseVal')\n",
    "for i in range(1, q):\n",
    "    df[df['MedHouseVal'] == i].plot.density(x='MedHouseVal', ax=ax, label='a')\n",
    "\n",
    "ax.legend(list(range(q)))\n",
    "plt.show()"
   ],
   "metadata": {
    "id": "To9TrlFr3cxe",
    "colab": {
     "base_uri": "https://localhost:8080/",
     "height": 289
    },
    "outputId": "92b55981-5bd4-49df-ff73-c03779ff3d4f"
   },
   "execution_count": 6,
   "outputs": [
    {
     "output_type": "display_data",
     "data": {
      "text/plain": [
       "<Figure size 432x288 with 1 Axes>"
      ],
      "image/png": "[encoded data removed]"
     },
     "metadata": {}
    }
   ]
  },
  {
   "cell_type": "code",
   "source": [
    "# Seleção de features\n",
    "feature_to_use = ['MedInc', 'HouseAge', 'Latitude', 'Longitude']"
   ],
   "metadata": {
    "id": "ZIAYKvejwlEC"
   },
   "execution_count": 7,
   "outputs": []
  },
  {
   "cell_type": "code",
   "source": [
    "# Seleção do conjunto de dados de treino e de teste\n",
    "X_train, X_test, y_train, y_test = train_test_split(X[feature_to_use], y, test_size=.3)"
   ],
   "metadata": {
    "id": "--5NK9R7xEWM"
   },
   "execution_count": 8,
   "outputs": []
  },
  {
   "cell_type": "code",
   "source": [
    "# Feature normalization\n",
    "scaler = preprocessing.StandardScaler().fit(X_train)\n",
    "X_train = scaler.transform(X_train)\n",
    "X_test = scaler.transform(X_test)"
   ],
   "metadata": {
    "id": "w-6bvJS0xalS"
   },
   "execution_count": 9,
   "outputs": []
  },
  {
   "cell_type": "markdown",
   "source": [
    "# **Passo 4**: Inicialização do modelo"
   ],
   "metadata": {
    "id": "Lml6i7SNxnZN"
   }
  },
  {
   "cell_type": "code",
   "source": [
    "model = tf.keras.models.Sequential()\n",
    "\n",
    "model.add(tf.keras.Input(shape=(X_train.shape[-1])))\n",
    "model.add(tf.keras.layers.Dense(50, activation='sigmoid'))\n",
    "model.add(tf.keras.layers.Dense(50, activation='sigmoid'))\n",
    "model.add(tf.keras.layers.Dense(1, activation='linear'))"
   ],
   "metadata": {
    "id": "RqRWvfxOxr21"
   },
   "execution_count": 10,
   "outputs": []
  },
  {
   "cell_type": "markdown",
   "source": [
    "Compilar o modelo"
   ],
   "metadata": {
    "id": "x-k73wqXx-A8"
   }
  },
  {
   "cell_type": "code",
   "source": [
    "model.compile(optimizer='sgd', loss='mean_squared_error',\n",
    "              metrics=['mean_squared_error', 'mean_absolute_percentage_error'])"
   ],
   "metadata": {
    "id": "Z2lC84IGx6JM"
   },
   "execution_count": 11,
   "outputs": []
  },
  {
   "cell_type": "code",
   "source": [
    "model.summary()"
   ],
   "metadata": {
    "colab": {
     "base_uri": "https://localhost:8080/"
    },
    "id": "8-Szc32ayVh9",
    "outputId": "665002d2-98cc-4470-a864-2c4f831fccc6"
   },
   "execution_count": 12,
   "outputs": [
    {
     "output_type": "stream",
     "name": "stdout",
     "text": [
      "Model: \"sequential\"\n",
      "_________________________________________________________________\n",
      " Layer (type)                Output Shape              Param #   \n",
      "=================================================================\n",
      " dense (Dense)               (None, 50)                250       \n",
      "                                                                 \n",
      " dense_1 (Dense)             (None, 50)                2550      \n",
      "                                                                 \n",
      " dense_2 (Dense)             (None, 1)                 51        \n",
      "                                                                 \n",
      "=================================================================\n",
      "Total params: 2,851\n",
      "Trainable params: 2,851\n",
      "Non-trainable params: 0\n",
      "_________________________________________________________________\n"
     ]
    }
   ]
  },
  {
   "cell_type": "markdown",
   "source": [
    "# **Passo 5**: Treino do modelo"
   ],
   "metadata": {
    "id": "dGmOaXdhyPmd"
   }
  },
  {
   "cell_type": "code",
   "source": [
    "callback = tf.keras.callbacks.EarlyStopping(monitor='val_loss', patience=10, min_delta=0.1)"
   ],
   "metadata": {
    "id": "x_uw4romx6HH"
   },
   "execution_count": 13,
   "outputs": []
  },
  {
   "cell_type": "code",
   "source": [
    "history = model.fit(X_train, y_train, epochs=50, batch_size=64, callbacks=[callback], validation_split=0.3)"
   ],
   "metadata": {
    "colab": {
     "base_uri": "https://localhost:8080/"
    },
    "id": "LNGBx4fsx6FE",
    "outputId": "dbbee7e0-6edb-47c3-c296-329e8b32d0af"
   },
   "execution_count": 14,
   "outputs": [
    {
     "output_type": "stream",
     "name": "stdout",
     "text": [
      "Epoch 1/50\n",
      "159/159 [==============================] - 2s 7ms/step - loss: 1.3938 - mean_squared_error: 1.3938 - mean_absolute_percentage_error: 60.4668 - val_loss: 1.4442 - val_mean_squared_error: 1.4442 - val_mean_absolute_percentage_error: 81.9080\n",
      "Epoch 2/50\n",
      "159/159 [==============================] - 1s 5ms/step - loss: 1.1435 - mean_squared_error: 1.1435 - mean_absolute_percentage_error: 57.4431 - val_loss: 1.1023 - val_mean_squared_error: 1.1023 - val_mean_absolute_percentage_error: 63.0910\n",
      "Epoch 3/50\n",
      "159/159 [==============================] - 1s 5ms/step - loss: 1.0045 - mean_squared_error: 1.0045 - mean_absolute_percentage_error: 53.1611 - val_loss: 0.9362 - val_mean_squared_error: 0.9362 - val_mean_absolute_percentage_error: 44.7280\n",
      "Epoch 4/50\n",
      "159/159 [==============================] - 1s 6ms/step - loss: 0.8459 - mean_squared_error: 0.8459 - mean_absolute_percentage_error: 47.4958 - val_loss: 0.7799 - val_mean_squared_error: 0.7799 - val_mean_absolute_percentage_error: 39.0260\n",
      "Epoch 5/50\n",
      "159/159 [==============================] - 1s 4ms/step - loss: 0.7067 - mean_squared_error: 0.7067 - mean_absolute_percentage_error: 41.6024 - val_loss: 0.6909 - val_mean_squared_error: 0.6909 - val_mean_absolute_percentage_error: 32.3588\n",
      "Epoch 6/50\n",
      "159/159 [==============================] - 1s 5ms/step - loss: 0.6281 - mean_squared_error: 0.6281 - mean_absolute_percentage_error: 37.2366 - val_loss: 0.6007 - val_mean_squared_error: 0.6007 - val_mean_absolute_percentage_error: 33.4731\n",
      "Epoch 7/50\n",
      "159/159 [==============================] - 1s 6ms/step - loss: 0.5961 - mean_squared_error: 0.5961 - mean_absolute_percentage_error: 34.9456 - val_loss: 0.6847 - val_mean_squared_error: 0.6847 - val_mean_absolute_percentage_error: 28.2164\n",
      "Epoch 8/50\n",
      "159/159 [==============================] - 1s 6ms/step - loss: 0.5861 - mean_squared_error: 0.5861 - mean_absolute_percentage_error: 33.7919 - val_loss: 0.5728 - val_mean_squared_error: 0.5728 - val_mean_absolute_percentage_error: 34.6717\n",
      "Epoch 9/50\n",
      "159/159 [==============================] - 1s 6ms/step - loss: 0.5784 - mean_squared_error: 0.5784 - mean_absolute_percentage_error: 33.4023 - val_loss: 0.5928 - val_mean_squared_error: 0.5928 - val_mean_absolute_percentage_error: 29.5772\n",
      "Epoch 10/50\n",
      "159/159 [==============================] - 1s 4ms/step - loss: 0.5749 - mean_squared_error: 0.5749 - mean_absolute_percentage_error: 33.0614 - val_loss: 0.5671 - val_mean_squared_error: 0.5671 - val_mean_absolute_percentage_error: 34.9117\n",
      "Epoch 11/50\n",
      "159/159 [==============================] - 1s 4ms/step - loss: 0.5711 - mean_squared_error: 0.5711 - mean_absolute_percentage_error: 32.9472 - val_loss: 0.5883 - val_mean_squared_error: 0.5883 - val_mean_absolute_percentage_error: 29.2097\n",
      "Epoch 12/50\n",
      "159/159 [==============================] - 1s 6ms/step - loss: 0.5680 - mean_squared_error: 0.5680 - mean_absolute_percentage_error: 32.7948 - val_loss: 0.6311 - val_mean_squared_error: 0.6311 - val_mean_absolute_percentage_error: 28.1061\n",
      "Epoch 13/50\n",
      "159/159 [==============================] - 1s 6ms/step - loss: 0.5634 - mean_squared_error: 0.5634 - mean_absolute_percentage_error: 32.5019 - val_loss: 0.5612 - val_mean_squared_error: 0.5612 - val_mean_absolute_percentage_error: 35.2702\n",
      "Epoch 14/50\n",
      "159/159 [==============================] - 1s 5ms/step - loss: 0.5602 - mean_squared_error: 0.5602 - mean_absolute_percentage_error: 32.5072 - val_loss: 0.5527 - val_mean_squared_error: 0.5527 - val_mean_absolute_percentage_error: 31.4146\n",
      "Epoch 15/50\n",
      "159/159 [==============================] - 1s 6ms/step - loss: 0.5573 - mean_squared_error: 0.5573 - mean_absolute_percentage_error: 32.2693 - val_loss: 0.5498 - val_mean_squared_error: 0.5498 - val_mean_absolute_percentage_error: 31.4554\n",
      "Epoch 16/50\n",
      "159/159 [==============================] - 1s 9ms/step - loss: 0.5553 - mean_squared_error: 0.5553 - mean_absolute_percentage_error: 32.1956 - val_loss: 0.5665 - val_mean_squared_error: 0.5665 - val_mean_absolute_percentage_error: 29.0532\n"
     ]
    }
   ]
  },
  {
   "cell_type": "markdown",
   "source": [
    "Curva da função de perda de treino"
   ],
   "metadata": {
    "id": "JOaiA7ppyl-Z"
   }
  },
  {
   "cell_type": "code",
   "source": [
    "plt.plot(history.history['loss'])"
   ],
   "metadata": {
    "colab": {
     "base_uri": "https://localhost:8080/",
     "height": 306
    },
    "id": "0Jz4fwJgymFn",
    "outputId": "ed6c7694-ea76-483d-a6a7-f697b7b837d1"
   },
   "execution_count": 15,
   "outputs": [
    {
     "output_type": "execute_result",
     "data": {
      "text/plain": [
       "[<matplotlib.lines.Line2D at 0x7fa00ca3e340>]"
      ]
     },
     "metadata": {},
     "execution_count": 15
    },
    {
     "output_type": "display_data",
     "data": {
      "text/plain": [
       "<Figure size 432x288 with 1 Axes>"
      ],
      "image/png": "[encoded data removed]"
     },
     "metadata": {}
    }
   ]
  },
  {
   "cell_type": "markdown",
   "source": [
    "Curva da função de perda de validação"
   ],
   "metadata": {
    "id": "uWezaAb2ymSD"
   }
  },
  {
   "cell_type": "code",
   "source": [
    "plt.plot(history.history['val_loss'])"
   ],
   "metadata": {
    "colab": {
     "base_uri": "https://localhost:8080/",
     "height": 306
    },
    "id": "Meh8Qr_pymYk",
    "outputId": "265a5006-0188-401b-90ea-65cba1ca8ad4"
   },
   "execution_count": 16,
   "outputs": [
    {
     "output_type": "execute_result",
     "data": {
      "text/plain": [
       "[<matplotlib.lines.Line2D at 0x7fa0126eca90>]"
      ]
     },
     "metadata": {},
     "execution_count": 16
    },
    {
     "output_type": "display_data",
     "data": {
      "text/plain": [
       "<Figure size 432x288 with 1 Axes>"
      ],
      "image/png": "[encoded data removed]"
     },
     "metadata": {}
    }
   ]
  },
  {
   "cell_type": "markdown",
   "source": [
    "# **Passo 6**: Avaliação do modelo"
   ],
   "metadata": {
    "id": "W4Flz4K5zqbU"
   }
  },
  {
   "cell_type": "code",
   "source": [
    "train_loss = model.evaluate(X_train, y_train)"
   ],
   "metadata": {
    "colab": {
     "base_uri": "https://localhost:8080/"
    },
    "id": "GgFydvLLzEGD",
    "outputId": "f792ab03-6a03-43ec-9723-a064b13c877e"
   },
   "execution_count": 17,
   "outputs": [
    {
     "output_type": "stream",
     "name": "stdout",
     "text": [
      "452/452 [==============================] - 1s 2ms/step - loss: 0.5727 - mean_squared_error: 0.5727 - mean_absolute_percentage_error: 28.8472\n"
     ]
    }
   ]
  },
  {
   "cell_type": "code",
   "source": [
    "test_loss = model.evaluate(X_test, y_test)"
   ],
   "metadata": {
    "colab": {
     "base_uri": "https://localhost:8080/"
    },
    "id": "5sjxZdwBzEIG",
    "outputId": "fc435c22-ab91-4ae2-d30d-35e7b9108a07"
   },
   "execution_count": 18,
   "outputs": [
    {
     "output_type": "stream",
     "name": "stdout",
     "text": [
      "194/194 [==============================] - 0s 2ms/step - loss: 0.5768 - mean_squared_error: 0.5768 - mean_absolute_percentage_error: 29.0478\n"
     ]
    }
   ]
  },
  {
   "cell_type": "code",
   "source": [
    "y_pred_train = model.predict(X_train)  # cálculo das saídas\n",
    "\n",
    "y_pred_test_prob = model.predict(X_test)  # cálculo das saídas"
   ],
   "metadata": {
    "colab": {
     "base_uri": "https://localhost:8080/"
    },
    "id": "NGgWd8cVzEKT",
    "outputId": "7801efd2-366a-4bf8-e242-946eb0c30864"
   },
   "execution_count": 19,
   "outputs": [
    {
     "output_type": "stream",
     "name": "stdout",
     "text": [
      "452/452 [==============================] - 1s 1ms/step\n",
      "194/194 [==============================] - 0s 1ms/step\n"
     ]
    }
   ]
  },
  {
   "cell_type": "markdown",
   "source": [
    "# Exercício\n",
    "\n",
    "Crie uma rede neuronal capaz de predizer, através das diferentes _features_, o consumo de combustível no ciclo da cidade em milhas por galão.\n",
    "\n",
    "O conjunto de dados pode ser carregado da seguinte forma:\n",
    "\n",
    "```python\n",
    "import pandas as pd\n",
    "\n",
    "column_names = ['MPG', 'Cylinders', 'Displacement', 'Horsepower', 'Weight', 'Acceleration', 'Model Year', 'Origin']\n",
    "\n",
    "dataset = pd.read_csv('https://archive.ics.uci.edu/ml/machine-learning-databases/auto-mpg/auto-mpg.data', names=column_names, na_values='?', comment='\\t', sep=' ', skipinitialspace=True)\n",
    "```\n",
    "\n",
    "A rede neuronal deverá possuir uma camada oculta (com 10 unidades), com a função de ativação sigmoid.\n",
    "\n",
    "Implemente paragem antecipada no conjunto de dados de validação, com um valor de ``patience`` e de ``min_delta`` escolhidos por si. Os dados de validação deverão consistir de 20% dos dados de treino (65% de todos os dados).\n",
    "\n",
    "Para treinar a rede, utilize um algoritmo de otimização diferente do gradiente descendente estocástico. Defina, por exemplo, ``epochs=50`` e ``batch_size=64``.\n",
    "\n",
    "Avalie o modelo e compare-o com um modelo com mais camadas ocultas (por exemplo, 2 camadas ocultas).\n",
    "\n",
    "**Sugestão**: Remova, do conjunto de dados, as linhas com dados inválidos. Use, por exemplo, a função ``df.dropna``."
   ],
   "metadata": {
    "id": "GFx4qhF4nR_J"
   }
  },
  {
   "cell_type": "code",
   "source": [
    "import pandas as pd\n",
    "\n",
    "column_names = ['MPG', 'Cylinders', 'Displacement', 'Horsepower', 'Weight', 'Acceleration', 'Model Year', 'Origin']\n",
    "\n",
    "dataset = pd.read_csv('https://archive.ics.uci.edu/ml/machine-learning-databases/auto-mpg/auto-mpg.data',\n",
    "                      names=column_names, na_values='?', comment='\\t', sep=' ', skipinitialspace=True)\n",
    "\n",
    "dataset.dropna(inplace=True)\n",
    "\n",
    "y, X = dataset[column_names[0]], dataset[column_names[1:]]"
   ],
   "metadata": {
    "id": "81Er5rtanmw6"
   },
   "execution_count": 20,
   "outputs": []
  },
  {
   "cell_type": "code",
   "source": [
    "X_train, X_test, y_train, y_test = train_test_split(X, y, test_size=.35)"
   ],
   "metadata": {
    "id": "kM2V8XRnqI5W"
   },
   "execution_count": 21,
   "outputs": []
  },
  {
   "cell_type": "code",
   "source": [
    "scaler = preprocessing.StandardScaler().fit(X_train)\n",
    "X_train = scaler.transform(X_train)\n",
    "X_test = scaler.transform(X_test)"
   ],
   "metadata": {
    "id": "RZgxenyTrEds"
   },
   "execution_count": 22,
   "outputs": []
  },
  {
   "cell_type": "code",
   "source": [
    "model = tf.keras.models.Sequential()\n",
    "\n",
    "model.add(tf.keras.Input(shape=(X_train.shape[-1])))\n",
    "model.add(tf.keras.layers.Dense(10, activation='sigmoid'))\n",
    "model.add(tf.keras.layers.Dense(1, activation='linear'))"
   ],
   "metadata": {
    "id": "Qp9LAEgtqI7r"
   },
   "execution_count": 23,
   "outputs": []
  },
  {
   "cell_type": "code",
   "source": [
    "callback = tf.keras.callbacks.EarlyStopping(monitor='val_loss', patience=10, min_delta=0.2)"
   ],
   "metadata": {
    "id": "uyudBnSvrIwi"
   },
   "execution_count": 24,
   "outputs": []
  },
  {
   "cell_type": "code",
   "source": [
    "model.compile(optimizer='SGD', loss='mean_squared_error',\n",
    "              metrics=['mean_squared_error', 'mean_absolute_percentage_error'])"
   ],
   "metadata": {
    "id": "_wW3A8UmsFrW"
   },
   "execution_count": 25,
   "outputs": []
  },
  {
   "cell_type": "code",
   "source": [
    "history = model.fit(X_train, y_train, epochs=50, batch_size=64, callbacks=[callback], validation_split=0.2)"
   ],
   "metadata": {
    "colab": {
     "base_uri": "https://localhost:8080/"
    },
    "id": "E64-Fz6Dr-cr",
    "outputId": "d053339b-c305-46ec-8b32-68dd0c10816b"
   },
   "execution_count": 26,
   "outputs": [
    {
     "output_type": "stream",
     "name": "stdout",
     "text": [
      "Epoch 1/50\n",
      "4/4 [==============================] - 1s 57ms/step - loss: 565.0055 - mean_squared_error: 565.0055 - mean_absolute_percentage_error: 94.2257 - val_loss: 354.7025 - val_mean_squared_error: 354.7025 - val_mean_absolute_percentage_error: 73.8395\n",
      "Epoch 2/50\n",
      "4/4 [==============================] - 0s 10ms/step - loss: 312.8225 - mean_squared_error: 312.8225 - mean_absolute_percentage_error: 67.3222 - val_loss: 152.9430 - val_mean_squared_error: 152.9430 - val_mean_absolute_percentage_error: 47.0760\n",
      "Epoch 3/50\n",
      "4/4 [==============================] - 0s 13ms/step - loss: 138.1961 - mean_squared_error: 138.1961 - mean_absolute_percentage_error: 43.2334 - val_loss: 61.6946 - val_mean_squared_error: 61.6946 - val_mean_absolute_percentage_error: 27.1008\n",
      "Epoch 4/50\n",
      "4/4 [==============================] - 0s 14ms/step - loss: 61.0133 - mean_squared_error: 61.0133 - mean_absolute_percentage_error: 25.9851 - val_loss: 29.4256 - val_mean_squared_error: 29.4256 - val_mean_absolute_percentage_error: 17.4005\n",
      "Epoch 5/50\n",
      "4/4 [==============================] - 0s 9ms/step - loss: 32.1141 - mean_squared_error: 32.1141 - mean_absolute_percentage_error: 17.4891 - val_loss: 18.2147 - val_mean_squared_error: 18.2147 - val_mean_absolute_percentage_error: 13.5665\n",
      "Epoch 6/50\n",
      "4/4 [==============================] - 0s 11ms/step - loss: 20.9864 - mean_squared_error: 20.9864 - mean_absolute_percentage_error: 13.7671 - val_loss: 14.9488 - val_mean_squared_error: 14.9488 - val_mean_absolute_percentage_error: 13.3790\n",
      "Epoch 7/50\n",
      "4/4 [==============================] - 0s 10ms/step - loss: 16.7429 - mean_squared_error: 16.7429 - mean_absolute_percentage_error: 12.7014 - val_loss: 14.5378 - val_mean_squared_error: 14.5378 - val_mean_absolute_percentage_error: 13.2992\n",
      "Epoch 8/50\n",
      "4/4 [==============================] - 0s 10ms/step - loss: 15.7464 - mean_squared_error: 15.7464 - mean_absolute_percentage_error: 12.6846 - val_loss: 14.4050 - val_mean_squared_error: 14.4050 - val_mean_absolute_percentage_error: 13.4012\n",
      "Epoch 9/50\n",
      "4/4 [==============================] - 0s 11ms/step - loss: 14.9505 - mean_squared_error: 14.9505 - mean_absolute_percentage_error: 12.3068 - val_loss: 14.7527 - val_mean_squared_error: 14.7527 - val_mean_absolute_percentage_error: 13.7931\n",
      "Epoch 10/50\n",
      "4/4 [==============================] - 0s 9ms/step - loss: 14.1744 - mean_squared_error: 14.1744 - mean_absolute_percentage_error: 12.6435 - val_loss: 14.3355 - val_mean_squared_error: 14.3355 - val_mean_absolute_percentage_error: 13.4955\n",
      "Epoch 11/50\n",
      "4/4 [==============================] - 0s 10ms/step - loss: 13.7924 - mean_squared_error: 13.7924 - mean_absolute_percentage_error: 12.2495 - val_loss: 13.7900 - val_mean_squared_error: 13.7900 - val_mean_absolute_percentage_error: 12.9818\n",
      "Epoch 12/50\n",
      "4/4 [==============================] - 0s 12ms/step - loss: 13.5099 - mean_squared_error: 13.5099 - mean_absolute_percentage_error: 11.8058 - val_loss: 13.6559 - val_mean_squared_error: 13.6559 - val_mean_absolute_percentage_error: 12.8945\n",
      "Epoch 13/50\n",
      "4/4 [==============================] - 0s 10ms/step - loss: 13.1503 - mean_squared_error: 13.1503 - mean_absolute_percentage_error: 11.5259 - val_loss: 13.9080 - val_mean_squared_error: 13.9080 - val_mean_absolute_percentage_error: 13.1402\n",
      "Epoch 14/50\n",
      "4/4 [==============================] - 0s 10ms/step - loss: 12.8837 - mean_squared_error: 12.8837 - mean_absolute_percentage_error: 11.9946 - val_loss: 13.7400 - val_mean_squared_error: 13.7400 - val_mean_absolute_percentage_error: 13.0287\n",
      "Epoch 15/50\n",
      "4/4 [==============================] - 0s 11ms/step - loss: 12.5364 - mean_squared_error: 12.5364 - mean_absolute_percentage_error: 11.6999 - val_loss: 13.6006 - val_mean_squared_error: 13.6006 - val_mean_absolute_percentage_error: 13.0183\n",
      "Epoch 16/50\n",
      "4/4 [==============================] - 0s 10ms/step - loss: 12.2629 - mean_squared_error: 12.2629 - mean_absolute_percentage_error: 11.2484 - val_loss: 13.2621 - val_mean_squared_error: 13.2621 - val_mean_absolute_percentage_error: 12.6823\n",
      "Epoch 17/50\n",
      "4/4 [==============================] - 0s 10ms/step - loss: 12.0839 - mean_squared_error: 12.0839 - mean_absolute_percentage_error: 11.0142 - val_loss: 13.3465 - val_mean_squared_error: 13.3465 - val_mean_absolute_percentage_error: 12.7929\n",
      "Epoch 18/50\n",
      "4/4 [==============================] - 0s 10ms/step - loss: 11.9516 - mean_squared_error: 11.9516 - mean_absolute_percentage_error: 10.9112 - val_loss: 13.2331 - val_mean_squared_error: 13.2331 - val_mean_absolute_percentage_error: 12.7012\n",
      "Epoch 19/50\n",
      "4/4 [==============================] - 0s 9ms/step - loss: 11.7115 - mean_squared_error: 11.7115 - mean_absolute_percentage_error: 10.9079 - val_loss: 13.1547 - val_mean_squared_error: 13.1547 - val_mean_absolute_percentage_error: 12.6067\n",
      "Epoch 20/50\n",
      "4/4 [==============================] - 0s 10ms/step - loss: 11.5022 - mean_squared_error: 11.5022 - mean_absolute_percentage_error: 10.9054 - val_loss: 13.1034 - val_mean_squared_error: 13.1034 - val_mean_absolute_percentage_error: 12.7029\n",
      "Epoch 21/50\n",
      "4/4 [==============================] - 0s 11ms/step - loss: 11.3945 - mean_squared_error: 11.3945 - mean_absolute_percentage_error: 10.6043 - val_loss: 12.7721 - val_mean_squared_error: 12.7721 - val_mean_absolute_percentage_error: 12.3831\n",
      "Epoch 22/50\n",
      "4/4 [==============================] - 0s 12ms/step - loss: 11.2131 - mean_squared_error: 11.2131 - mean_absolute_percentage_error: 10.5656 - val_loss: 12.7410 - val_mean_squared_error: 12.7410 - val_mean_absolute_percentage_error: 12.3623\n",
      "Epoch 23/50\n",
      "4/4 [==============================] - 0s 9ms/step - loss: 11.0458 - mean_squared_error: 11.0458 - mean_absolute_percentage_error: 10.5874 - val_loss: 12.4174 - val_mean_squared_error: 12.4174 - val_mean_absolute_percentage_error: 12.2001\n",
      "Epoch 24/50\n",
      "4/4 [==============================] - 0s 9ms/step - loss: 10.9845 - mean_squared_error: 10.9845 - mean_absolute_percentage_error: 10.4664 - val_loss: 12.9074 - val_mean_squared_error: 12.9074 - val_mean_absolute_percentage_error: 12.6691\n",
      "Epoch 25/50\n",
      "4/4 [==============================] - 0s 10ms/step - loss: 10.8245 - mean_squared_error: 10.8245 - mean_absolute_percentage_error: 10.4266 - val_loss: 13.0638 - val_mean_squared_error: 13.0638 - val_mean_absolute_percentage_error: 12.8417\n",
      "Epoch 26/50\n",
      "4/4 [==============================] - 0s 10ms/step - loss: 10.7094 - mean_squared_error: 10.7094 - mean_absolute_percentage_error: 10.5232 - val_loss: 12.5891 - val_mean_squared_error: 12.5891 - val_mean_absolute_percentage_error: 12.5043\n",
      "Epoch 27/50\n",
      "4/4 [==============================] - 0s 9ms/step - loss: 10.4731 - mean_squared_error: 10.4731 - mean_absolute_percentage_error: 10.2278 - val_loss: 12.5582 - val_mean_squared_error: 12.5582 - val_mean_absolute_percentage_error: 12.4325\n",
      "Epoch 28/50\n",
      "4/4 [==============================] - 0s 9ms/step - loss: 10.3353 - mean_squared_error: 10.3353 - mean_absolute_percentage_error: 10.2203 - val_loss: 12.6495 - val_mean_squared_error: 12.6495 - val_mean_absolute_percentage_error: 12.4454\n",
      "Epoch 29/50\n",
      "4/4 [==============================] - 0s 10ms/step - loss: 10.2672 - mean_squared_error: 10.2672 - mean_absolute_percentage_error: 10.1648 - val_loss: 12.4104 - val_mean_squared_error: 12.4104 - val_mean_absolute_percentage_error: 12.3424\n",
      "Epoch 30/50\n",
      "4/4 [==============================] - 0s 12ms/step - loss: 10.1435 - mean_squared_error: 10.1435 - mean_absolute_percentage_error: 10.1154 - val_loss: 11.9973 - val_mean_squared_error: 11.9973 - val_mean_absolute_percentage_error: 12.0573\n",
      "Epoch 31/50\n",
      "4/4 [==============================] - 0s 10ms/step - loss: 9.9965 - mean_squared_error: 9.9965 - mean_absolute_percentage_error: 9.9124 - val_loss: 11.7298 - val_mean_squared_error: 11.7298 - val_mean_absolute_percentage_error: 11.8377\n",
      "Epoch 32/50\n",
      "4/4 [==============================] - 0s 10ms/step - loss: 9.9541 - mean_squared_error: 9.9541 - mean_absolute_percentage_error: 9.8610 - val_loss: 11.9036 - val_mean_squared_error: 11.9036 - val_mean_absolute_percentage_error: 11.9154\n",
      "Epoch 33/50\n",
      "4/4 [==============================] - 0s 10ms/step - loss: 9.7934 - mean_squared_error: 9.7934 - mean_absolute_percentage_error: 9.7965 - val_loss: 12.1525 - val_mean_squared_error: 12.1525 - val_mean_absolute_percentage_error: 12.1370\n",
      "Epoch 34/50\n",
      "4/4 [==============================] - 0s 10ms/step - loss: 9.6887 - mean_squared_error: 9.6887 - mean_absolute_percentage_error: 9.8636 - val_loss: 11.7187 - val_mean_squared_error: 11.7187 - val_mean_absolute_percentage_error: 11.8693\n",
      "Epoch 35/50\n",
      "4/4 [==============================] - 0s 11ms/step - loss: 9.6077 - mean_squared_error: 9.6077 - mean_absolute_percentage_error: 9.7625 - val_loss: 11.8373 - val_mean_squared_error: 11.8373 - val_mean_absolute_percentage_error: 11.8473\n",
      "Epoch 36/50\n",
      "4/4 [==============================] - 0s 11ms/step - loss: 9.4983 - mean_squared_error: 9.4983 - mean_absolute_percentage_error: 9.5755 - val_loss: 11.8240 - val_mean_squared_error: 11.8240 - val_mean_absolute_percentage_error: 11.8406\n",
      "Epoch 37/50\n",
      "4/4 [==============================] - 0s 12ms/step - loss: 9.4448 - mean_squared_error: 9.4448 - mean_absolute_percentage_error: 9.5406 - val_loss: 11.7860 - val_mean_squared_error: 11.7860 - val_mean_absolute_percentage_error: 11.8578\n",
      "Epoch 38/50\n",
      "4/4 [==============================] - 0s 11ms/step - loss: 9.3065 - mean_squared_error: 9.3065 - mean_absolute_percentage_error: 9.5097 - val_loss: 11.7877 - val_mean_squared_error: 11.7877 - val_mean_absolute_percentage_error: 11.8683\n",
      "Epoch 39/50\n",
      "4/4 [==============================] - 0s 9ms/step - loss: 9.2655 - mean_squared_error: 9.2655 - mean_absolute_percentage_error: 9.4003 - val_loss: 11.7337 - val_mean_squared_error: 11.7337 - val_mean_absolute_percentage_error: 11.7162\n",
      "Epoch 40/50\n",
      "4/4 [==============================] - 0s 11ms/step - loss: 9.3194 - mean_squared_error: 9.3194 - mean_absolute_percentage_error: 9.3608 - val_loss: 11.7428 - val_mean_squared_error: 11.7428 - val_mean_absolute_percentage_error: 11.8640\n",
      "Epoch 41/50\n",
      "4/4 [==============================] - 0s 11ms/step - loss: 9.0721 - mean_squared_error: 9.0721 - mean_absolute_percentage_error: 9.3305 - val_loss: 11.6374 - val_mean_squared_error: 11.6374 - val_mean_absolute_percentage_error: 11.8062\n"
     ]
    }
   ]
  },
  {
   "cell_type": "code",
   "source": [
    "model.evaluate(X_test, y_test)"
   ],
   "metadata": {
    "colab": {
     "base_uri": "https://localhost:8080/"
    },
    "id": "MyZKFaxiuf-2",
    "outputId": "f9a678f8-744d-406d-b0ee-c1e7124de4e6"
   },
   "execution_count": 27,
   "outputs": [
    {
     "output_type": "stream",
     "name": "stdout",
     "text": [
      "5/5 [==============================] - 0s 3ms/step - loss: 12.8633 - mean_squared_error: 12.8633 - mean_absolute_percentage_error: 9.8961\n"
     ]
    }
   ]
  }
 ]
}
