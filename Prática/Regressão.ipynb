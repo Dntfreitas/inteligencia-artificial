{
  "nbformat": 4,
  "nbformat_minor": 0,
  "metadata": {
    "colab": {
      "provenance": [],
      "collapsed_sections": [
        "2xPObaa53vfR"
      ],
      "include_colab_link": true
    },
    "kernelspec": {
      "name": "python3",
      "display_name": "Python 3"
    },
    "language_info": {
      "name": "python"
    }
  },
  "cells": [
    {
      "cell_type": "markdown",
      "metadata": {
        "id": "view-in-github",
        "colab_type": "text"
      },
      "source": [
        "<a href=\"https://colab.research.google.com/github/Dntfreitas/inteligencia-artificial/blob/main/Pr%C3%A1tica/Regressa%CC%83o.ipynb\" target=\"_parent\"><img src=\"https://colab.research.google.com/assets/colab-badge.svg\" alt=\"Open In Colab\"/></a>"
      ]
    },
    {
      "cell_type": "markdown",
      "source": [
        "# Importação das bibliotecas necessárias"
      ],
      "metadata": {
        "id": "Aa8EZgHK2w-D"
      }
    },
    {
      "cell_type": "code",
      "execution_count": 1,
      "metadata": {
        "id": "6NNnDrdiza1m"
      },
      "outputs": [],
      "source": [
        "import pandas as pd\n",
        "\n",
        "import matplotlib.pyplot as plt\n",
        "import tensorflow as tf\n",
        "from sklearn import preprocessing\n",
        "from sklearn.datasets import fetch_california_housing\n",
        "from sklearn.model_selection import train_test_split\n",
        "\n",
        "import seaborn as sns\n",
        "\n",
        "sns.set()"
      ]
    },
    {
      "cell_type": "markdown",
      "source": [
        "# **Passo 1**: Obter dados\n",
        "\n",
        "Neste passo, vamos obter o conjunto de dados, e analisar as _features_. O objetivo é usar as características (i.e., _features_) das casas para predizer o valor médio das casas (expresso em centenas de milhares de dólares).\n",
        "\n"
      ],
      "metadata": {
        "id": "2xPObaa53vfR"
      }
    },
    {
      "cell_type": "markdown",
      "source": [
        "**Features:**\n",
        "  - MedInc        median income in block\n",
        "  - HouseAge      median house age in block\n",
        "  - AveRooms      average number of rooms\n",
        "  - AveBedrms     average number of bedrooms<\n",
        "  - Population    block population\n",
        "  - AveOccup      average house occupancy\n",
        "  - Latitude      house block latitude\n",
        "  - Longitude     house block longitude"
      ],
      "metadata": {
        "id": "N8ialCyb5T-5"
      }
    },
    {
      "cell_type": "code",
      "source": [
        "X, y = fetch_california_housing(return_X_y=True, as_frame=True)"
      ],
      "metadata": {
        "id": "XHKPhskY2wUT"
      },
      "execution_count": 2,
      "outputs": []
    },
    {
      "cell_type": "code",
      "source": [
        "X.head()"
      ],
      "metadata": {
        "colab": {
          "base_uri": "https://localhost:8080/",
          "height": 266
        },
        "id": "0c_f8HRc8o11",
        "outputId": "776db9c9-2226-484b-bacb-bab011530800"
      },
      "execution_count": 3,
      "outputs": [
        {
          "output_type": "execute_result",
          "data": {
            "text/plain": [
              "   MedInc  HouseAge  AveRooms  AveBedrms  Population  AveOccup  Latitude  \\\n",
              "0  8.3252      41.0  6.984127   1.023810       322.0  2.555556     37.88   \n",
              "1  8.3014      21.0  6.238137   0.971880      2401.0  2.109842     37.86   \n",
              "2  7.2574      52.0  8.288136   1.073446       496.0  2.802260     37.85   \n",
              "3  5.6431      52.0  5.817352   1.073059       558.0  2.547945     37.85   \n",
              "4  3.8462      52.0  6.281853   1.081081       565.0  2.181467     37.85   \n",
              "\n",
              "   Longitude  \n",
              "0    -122.23  \n",
              "1    -122.22  \n",
              "2    -122.24  \n",
              "3    -122.25  \n",
              "4    -122.25  "
            ],
            "text/html": [
              "\n",
              "  <div id=\"df-465f7491-855f-47d9-b2ab-a6f314682e39\">\n",
              "    <div class=\"colab-df-container\">\n",
              "      <div>\n",
              "<style scoped>\n",
              "    .dataframe tbody tr th:only-of-type {\n",
              "        vertical-align: middle;\n",
              "    }\n",
              "\n",
              "    .dataframe tbody tr th {\n",
              "        vertical-align: top;\n",
              "    }\n",
              "\n",
              "    .dataframe thead th {\n",
              "        text-align: right;\n",
              "    }\n",
              "</style>\n",
              "<table border=\"1\" class=\"dataframe\">\n",
              "  <thead>\n",
              "    <tr style=\"text-align: right;\">\n",
              "      <th></th>\n",
              "      <th>MedInc</th>\n",
              "      <th>HouseAge</th>\n",
              "      <th>AveRooms</th>\n",
              "      <th>AveBedrms</th>\n",
              "      <th>Population</th>\n",
              "      <th>AveOccup</th>\n",
              "      <th>Latitude</th>\n",
              "      <th>Longitude</th>\n",
              "    </tr>\n",
              "  </thead>\n",
              "  <tbody>\n",
              "    <tr>\n",
              "      <th>0</th>\n",
              "      <td>8.3252</td>\n",
              "      <td>41.0</td>\n",
              "      <td>6.984127</td>\n",
              "      <td>1.023810</td>\n",
              "      <td>322.0</td>\n",
              "      <td>2.555556</td>\n",
              "      <td>37.88</td>\n",
              "      <td>-122.23</td>\n",
              "    </tr>\n",
              "    <tr>\n",
              "      <th>1</th>\n",
              "      <td>8.3014</td>\n",
              "      <td>21.0</td>\n",
              "      <td>6.238137</td>\n",
              "      <td>0.971880</td>\n",
              "      <td>2401.0</td>\n",
              "      <td>2.109842</td>\n",
              "      <td>37.86</td>\n",
              "      <td>-122.22</td>\n",
              "    </tr>\n",
              "    <tr>\n",
              "      <th>2</th>\n",
              "      <td>7.2574</td>\n",
              "      <td>52.0</td>\n",
              "      <td>8.288136</td>\n",
              "      <td>1.073446</td>\n",
              "      <td>496.0</td>\n",
              "      <td>2.802260</td>\n",
              "      <td>37.85</td>\n",
              "      <td>-122.24</td>\n",
              "    </tr>\n",
              "    <tr>\n",
              "      <th>3</th>\n",
              "      <td>5.6431</td>\n",
              "      <td>52.0</td>\n",
              "      <td>5.817352</td>\n",
              "      <td>1.073059</td>\n",
              "      <td>558.0</td>\n",
              "      <td>2.547945</td>\n",
              "      <td>37.85</td>\n",
              "      <td>-122.25</td>\n",
              "    </tr>\n",
              "    <tr>\n",
              "      <th>4</th>\n",
              "      <td>3.8462</td>\n",
              "      <td>52.0</td>\n",
              "      <td>6.281853</td>\n",
              "      <td>1.081081</td>\n",
              "      <td>565.0</td>\n",
              "      <td>2.181467</td>\n",
              "      <td>37.85</td>\n",
              "      <td>-122.25</td>\n",
              "    </tr>\n",
              "  </tbody>\n",
              "</table>\n",
              "</div>\n",
              "      <button class=\"colab-df-convert\" onclick=\"convertToInteractive('df-465f7491-855f-47d9-b2ab-a6f314682e39')\"\n",
              "              title=\"Convert this dataframe to an interactive table.\"\n",
              "              style=\"display:none;\">\n",
              "        \n",
              "  <svg xmlns=\"http://www.w3.org/2000/svg\" height=\"24px\"viewBox=\"0 0 24 24\"\n",
              "       width=\"24px\">\n",
              "    <path d=\"M0 0h24v24H0V0z\" fill=\"none\"/>\n",
              "    <path d=\"M18.56 5.44l.94 2.06.94-2.06 2.06-.94-2.06-.94-.94-2.06-.94 2.06-2.06.94zm-11 1L8.5 8.5l.94-2.06 2.06-.94-2.06-.94L8.5 2.5l-.94 2.06-2.06.94zm10 10l.94 2.06.94-2.06 2.06-.94-2.06-.94-.94-2.06-.94 2.06-2.06.94z\"/><path d=\"M17.41 7.96l-1.37-1.37c-.4-.4-.92-.59-1.43-.59-.52 0-1.04.2-1.43.59L10.3 9.45l-7.72 7.72c-.78.78-.78 2.05 0 2.83L4 21.41c.39.39.9.59 1.41.59.51 0 1.02-.2 1.41-.59l7.78-7.78 2.81-2.81c.8-.78.8-2.07 0-2.86zM5.41 20L4 18.59l7.72-7.72 1.47 1.35L5.41 20z\"/>\n",
              "  </svg>\n",
              "      </button>\n",
              "      \n",
              "  <style>\n",
              "    .colab-df-container {\n",
              "      display:flex;\n",
              "      flex-wrap:wrap;\n",
              "      gap: 12px;\n",
              "    }\n",
              "\n",
              "    .colab-df-convert {\n",
              "      background-color: #E8F0FE;\n",
              "      border: none;\n",
              "      border-radius: 50%;\n",
              "      cursor: pointer;\n",
              "      display: none;\n",
              "      fill: #1967D2;\n",
              "      height: 32px;\n",
              "      padding: 0 0 0 0;\n",
              "      width: 32px;\n",
              "    }\n",
              "\n",
              "    .colab-df-convert:hover {\n",
              "      background-color: #E2EBFA;\n",
              "      box-shadow: 0px 1px 2px rgba(60, 64, 67, 0.3), 0px 1px 3px 1px rgba(60, 64, 67, 0.15);\n",
              "      fill: #174EA6;\n",
              "    }\n",
              "\n",
              "    [theme=dark] .colab-df-convert {\n",
              "      background-color: #3B4455;\n",
              "      fill: #D2E3FC;\n",
              "    }\n",
              "\n",
              "    [theme=dark] .colab-df-convert:hover {\n",
              "      background-color: #434B5C;\n",
              "      box-shadow: 0px 1px 3px 1px rgba(0, 0, 0, 0.15);\n",
              "      filter: drop-shadow(0px 1px 2px rgba(0, 0, 0, 0.3));\n",
              "      fill: #FFFFFF;\n",
              "    }\n",
              "  </style>\n",
              "\n",
              "      <script>\n",
              "        const buttonEl =\n",
              "          document.querySelector('#df-465f7491-855f-47d9-b2ab-a6f314682e39 button.colab-df-convert');\n",
              "        buttonEl.style.display =\n",
              "          google.colab.kernel.accessAllowed ? 'block' : 'none';\n",
              "\n",
              "        async function convertToInteractive(key) {\n",
              "          const element = document.querySelector('#df-465f7491-855f-47d9-b2ab-a6f314682e39');\n",
              "          const dataTable =\n",
              "            await google.colab.kernel.invokeFunction('convertToInteractive',\n",
              "                                                     [key], {});\n",
              "          if (!dataTable) return;\n",
              "\n",
              "          const docLinkHtml = 'Like what you see? Visit the ' +\n",
              "            '<a target=\"_blank\" href=https://colab.research.google.com/notebooks/data_table.ipynb>data table notebook</a>'\n",
              "            + ' to learn more about interactive tables.';\n",
              "          element.innerHTML = '';\n",
              "          dataTable['output_type'] = 'display_data';\n",
              "          await google.colab.output.renderOutput(dataTable, element);\n",
              "          const docLink = document.createElement('div');\n",
              "          docLink.innerHTML = docLinkHtml;\n",
              "          element.appendChild(docLink);\n",
              "        }\n",
              "      </script>\n",
              "    </div>\n",
              "  </div>\n",
              "  "
            ]
          },
          "metadata": {},
          "execution_count": 3
        }
      ]
    },
    {
      "cell_type": "code",
      "source": [
        "y.head()"
      ],
      "metadata": {
        "colab": {
          "base_uri": "https://localhost:8080/"
        },
        "id": "RYXA6bTE8qmc",
        "outputId": "dacfc24e-46e4-47dd-a348-0f14f33cc407"
      },
      "execution_count": 4,
      "outputs": [
        {
          "output_type": "execute_result",
          "data": {
            "text/plain": [
              "0    4.526\n",
              "1    3.585\n",
              "2    3.521\n",
              "3    3.413\n",
              "4    3.422\n",
              "Name: MedHouseVal, dtype: float64"
            ]
          },
          "metadata": {},
          "execution_count": 4
        }
      ]
    },
    {
      "cell_type": "code",
      "source": [
        "X.describe()  # podemos usar para detetar outliers/dados inválidos"
      ],
      "metadata": {
        "colab": {
          "base_uri": "https://localhost:8080/",
          "height": 357
        },
        "id": "gmp-mLGy296A",
        "outputId": "bea48b55-96ca-40cc-e530-b5688d4b3d01"
      },
      "execution_count": 5,
      "outputs": [
        {
          "output_type": "execute_result",
          "data": {
            "text/plain": [
              "             MedInc      HouseAge      AveRooms     AveBedrms    Population  \\\n",
              "count  20640.000000  20640.000000  20640.000000  20640.000000  20640.000000   \n",
              "mean       3.870671     28.639486      5.429000      1.096675   1425.476744   \n",
              "std        1.899822     12.585558      2.474173      0.473911   1132.462122   \n",
              "min        0.499900      1.000000      0.846154      0.333333      3.000000   \n",
              "25%        2.563400     18.000000      4.440716      1.006079    787.000000   \n",
              "50%        3.534800     29.000000      5.229129      1.048780   1166.000000   \n",
              "75%        4.743250     37.000000      6.052381      1.099526   1725.000000   \n",
              "max       15.000100     52.000000    141.909091     34.066667  35682.000000   \n",
              "\n",
              "           AveOccup      Latitude     Longitude  \n",
              "count  20640.000000  20640.000000  20640.000000  \n",
              "mean       3.070655     35.631861   -119.569704  \n",
              "std       10.386050      2.135952      2.003532  \n",
              "min        0.692308     32.540000   -124.350000  \n",
              "25%        2.429741     33.930000   -121.800000  \n",
              "50%        2.818116     34.260000   -118.490000  \n",
              "75%        3.282261     37.710000   -118.010000  \n",
              "max     1243.333333     41.950000   -114.310000  "
            ],
            "text/html": [
              "\n",
              "  <div id=\"df-4bce59d1-1798-458f-831b-74162c3ff899\">\n",
              "    <div class=\"colab-df-container\">\n",
              "      <div>\n",
              "<style scoped>\n",
              "    .dataframe tbody tr th:only-of-type {\n",
              "        vertical-align: middle;\n",
              "    }\n",
              "\n",
              "    .dataframe tbody tr th {\n",
              "        vertical-align: top;\n",
              "    }\n",
              "\n",
              "    .dataframe thead th {\n",
              "        text-align: right;\n",
              "    }\n",
              "</style>\n",
              "<table border=\"1\" class=\"dataframe\">\n",
              "  <thead>\n",
              "    <tr style=\"text-align: right;\">\n",
              "      <th></th>\n",
              "      <th>MedInc</th>\n",
              "      <th>HouseAge</th>\n",
              "      <th>AveRooms</th>\n",
              "      <th>AveBedrms</th>\n",
              "      <th>Population</th>\n",
              "      <th>AveOccup</th>\n",
              "      <th>Latitude</th>\n",
              "      <th>Longitude</th>\n",
              "    </tr>\n",
              "  </thead>\n",
              "  <tbody>\n",
              "    <tr>\n",
              "      <th>count</th>\n",
              "      <td>20640.000000</td>\n",
              "      <td>20640.000000</td>\n",
              "      <td>20640.000000</td>\n",
              "      <td>20640.000000</td>\n",
              "      <td>20640.000000</td>\n",
              "      <td>20640.000000</td>\n",
              "      <td>20640.000000</td>\n",
              "      <td>20640.000000</td>\n",
              "    </tr>\n",
              "    <tr>\n",
              "      <th>mean</th>\n",
              "      <td>3.870671</td>\n",
              "      <td>28.639486</td>\n",
              "      <td>5.429000</td>\n",
              "      <td>1.096675</td>\n",
              "      <td>1425.476744</td>\n",
              "      <td>3.070655</td>\n",
              "      <td>35.631861</td>\n",
              "      <td>-119.569704</td>\n",
              "    </tr>\n",
              "    <tr>\n",
              "      <th>std</th>\n",
              "      <td>1.899822</td>\n",
              "      <td>12.585558</td>\n",
              "      <td>2.474173</td>\n",
              "      <td>0.473911</td>\n",
              "      <td>1132.462122</td>\n",
              "      <td>10.386050</td>\n",
              "      <td>2.135952</td>\n",
              "      <td>2.003532</td>\n",
              "    </tr>\n",
              "    <tr>\n",
              "      <th>min</th>\n",
              "      <td>0.499900</td>\n",
              "      <td>1.000000</td>\n",
              "      <td>0.846154</td>\n",
              "      <td>0.333333</td>\n",
              "      <td>3.000000</td>\n",
              "      <td>0.692308</td>\n",
              "      <td>32.540000</td>\n",
              "      <td>-124.350000</td>\n",
              "    </tr>\n",
              "    <tr>\n",
              "      <th>25%</th>\n",
              "      <td>2.563400</td>\n",
              "      <td>18.000000</td>\n",
              "      <td>4.440716</td>\n",
              "      <td>1.006079</td>\n",
              "      <td>787.000000</td>\n",
              "      <td>2.429741</td>\n",
              "      <td>33.930000</td>\n",
              "      <td>-121.800000</td>\n",
              "    </tr>\n",
              "    <tr>\n",
              "      <th>50%</th>\n",
              "      <td>3.534800</td>\n",
              "      <td>29.000000</td>\n",
              "      <td>5.229129</td>\n",
              "      <td>1.048780</td>\n",
              "      <td>1166.000000</td>\n",
              "      <td>2.818116</td>\n",
              "      <td>34.260000</td>\n",
              "      <td>-118.490000</td>\n",
              "    </tr>\n",
              "    <tr>\n",
              "      <th>75%</th>\n",
              "      <td>4.743250</td>\n",
              "      <td>37.000000</td>\n",
              "      <td>6.052381</td>\n",
              "      <td>1.099526</td>\n",
              "      <td>1725.000000</td>\n",
              "      <td>3.282261</td>\n",
              "      <td>37.710000</td>\n",
              "      <td>-118.010000</td>\n",
              "    </tr>\n",
              "    <tr>\n",
              "      <th>max</th>\n",
              "      <td>15.000100</td>\n",
              "      <td>52.000000</td>\n",
              "      <td>141.909091</td>\n",
              "      <td>34.066667</td>\n",
              "      <td>35682.000000</td>\n",
              "      <td>1243.333333</td>\n",
              "      <td>41.950000</td>\n",
              "      <td>-114.310000</td>\n",
              "    </tr>\n",
              "  </tbody>\n",
              "</table>\n",
              "</div>\n",
              "      <button class=\"colab-df-convert\" onclick=\"convertToInteractive('df-4bce59d1-1798-458f-831b-74162c3ff899')\"\n",
              "              title=\"Convert this dataframe to an interactive table.\"\n",
              "              style=\"display:none;\">\n",
              "        \n",
              "  <svg xmlns=\"http://www.w3.org/2000/svg\" height=\"24px\"viewBox=\"0 0 24 24\"\n",
              "       width=\"24px\">\n",
              "    <path d=\"M0 0h24v24H0V0z\" fill=\"none\"/>\n",
              "    <path d=\"M18.56 5.44l.94 2.06.94-2.06 2.06-.94-2.06-.94-.94-2.06-.94 2.06-2.06.94zm-11 1L8.5 8.5l.94-2.06 2.06-.94-2.06-.94L8.5 2.5l-.94 2.06-2.06.94zm10 10l.94 2.06.94-2.06 2.06-.94-2.06-.94-.94-2.06-.94 2.06-2.06.94z\"/><path d=\"M17.41 7.96l-1.37-1.37c-.4-.4-.92-.59-1.43-.59-.52 0-1.04.2-1.43.59L10.3 9.45l-7.72 7.72c-.78.78-.78 2.05 0 2.83L4 21.41c.39.39.9.59 1.41.59.51 0 1.02-.2 1.41-.59l7.78-7.78 2.81-2.81c.8-.78.8-2.07 0-2.86zM5.41 20L4 18.59l7.72-7.72 1.47 1.35L5.41 20z\"/>\n",
              "  </svg>\n",
              "      </button>\n",
              "      \n",
              "  <style>\n",
              "    .colab-df-container {\n",
              "      display:flex;\n",
              "      flex-wrap:wrap;\n",
              "      gap: 12px;\n",
              "    }\n",
              "\n",
              "    .colab-df-convert {\n",
              "      background-color: #E8F0FE;\n",
              "      border: none;\n",
              "      border-radius: 50%;\n",
              "      cursor: pointer;\n",
              "      display: none;\n",
              "      fill: #1967D2;\n",
              "      height: 32px;\n",
              "      padding: 0 0 0 0;\n",
              "      width: 32px;\n",
              "    }\n",
              "\n",
              "    .colab-df-convert:hover {\n",
              "      background-color: #E2EBFA;\n",
              "      box-shadow: 0px 1px 2px rgba(60, 64, 67, 0.3), 0px 1px 3px 1px rgba(60, 64, 67, 0.15);\n",
              "      fill: #174EA6;\n",
              "    }\n",
              "\n",
              "    [theme=dark] .colab-df-convert {\n",
              "      background-color: #3B4455;\n",
              "      fill: #D2E3FC;\n",
              "    }\n",
              "\n",
              "    [theme=dark] .colab-df-convert:hover {\n",
              "      background-color: #434B5C;\n",
              "      box-shadow: 0px 1px 3px 1px rgba(0, 0, 0, 0.15);\n",
              "      filter: drop-shadow(0px 1px 2px rgba(0, 0, 0, 0.3));\n",
              "      fill: #FFFFFF;\n",
              "    }\n",
              "  </style>\n",
              "\n",
              "      <script>\n",
              "        const buttonEl =\n",
              "          document.querySelector('#df-4bce59d1-1798-458f-831b-74162c3ff899 button.colab-df-convert');\n",
              "        buttonEl.style.display =\n",
              "          google.colab.kernel.accessAllowed ? 'block' : 'none';\n",
              "\n",
              "        async function convertToInteractive(key) {\n",
              "          const element = document.querySelector('#df-4bce59d1-1798-458f-831b-74162c3ff899');\n",
              "          const dataTable =\n",
              "            await google.colab.kernel.invokeFunction('convertToInteractive',\n",
              "                                                     [key], {});\n",
              "          if (!dataTable) return;\n",
              "\n",
              "          const docLinkHtml = 'Like what you see? Visit the ' +\n",
              "            '<a target=\"_blank\" href=https://colab.research.google.com/notebooks/data_table.ipynb>data table notebook</a>'\n",
              "            + ' to learn more about interactive tables.';\n",
              "          element.innerHTML = '';\n",
              "          dataTable['output_type'] = 'display_data';\n",
              "          await google.colab.output.renderOutput(dataTable, element);\n",
              "          const docLink = document.createElement('div');\n",
              "          docLink.innerHTML = docLinkHtml;\n",
              "          element.appendChild(docLink);\n",
              "        }\n",
              "      </script>\n",
              "    </div>\n",
              "  </div>\n",
              "  "
            ]
          },
          "metadata": {},
          "execution_count": 5
        }
      ]
    },
    {
      "cell_type": "markdown",
      "source": [
        "# **Passo 2 e 3**: Pré-processamento dos dados e preparação dos dados"
      ],
      "metadata": {
        "id": "zn0JVPS6Afgv"
      }
    },
    {
      "cell_type": "markdown",
      "source": [
        "Vamos fazer uma análise exploratória dos dados para percebermos as _features_ de interesse."
      ],
      "metadata": {
        "id": "ut9ycOHqqUpE"
      }
    },
    {
      "cell_type": "code",
      "source": [
        "q = 6\n",
        "feature = 'Longitude'  #@param ['MedInc', 'HouseAge', 'AveRooms', 'AveBedrms', 'Population', 'AveOccup', 'Latitude', 'Longitude']\n",
        "\n",
        "dis_value = pd.qcut(y, q, labels=False)\n",
        "df = pd.DataFrame([X[feature], dis_value]).T\n",
        "ax = df[df['MedHouseVal'] == 0].plot.density(x='MedHouseVal')\n",
        "for i in range(1, q):\n",
        "    df[df['MedHouseVal'] == i].plot.density(x='MedHouseVal', ax=ax, label='a')\n",
        "\n",
        "ax.legend(list(range(q)))\n",
        "plt.show()"
      ],
      "metadata": {
        "id": "To9TrlFr3cxe",
        "colab": {
          "base_uri": "https://localhost:8080/",
          "height": 289
        },
        "outputId": "834b0bd8-c4bc-45ee-fe4d-b17cca184030"
      },
      "execution_count": 6,
      "outputs": [
        {
          "output_type": "display_data",
          "data": {
            "text/plain": [
              "<Figure size 432x288 with 1 Axes>"
            ],
            "image/png": "[encoded data removed]"
          },
          "metadata": {}
        }
      ]
    },
    {
      "cell_type": "code",
      "source": [
        "# Seleção de features\n",
        "feature_to_use = ['MedInc', 'HouseAge', 'Latitude', 'Longitude']"
      ],
      "metadata": {
        "id": "ZIAYKvejwlEC"
      },
      "execution_count": 7,
      "outputs": []
    },
    {
      "cell_type": "code",
      "source": [
        "# Seleção do conjunto de dados de treino e de teste\n",
        "X_train, X_test, y_train, y_test = train_test_split(X[feature_to_use], y, test_size=.3)"
      ],
      "metadata": {
        "id": "--5NK9R7xEWM"
      },
      "execution_count": 8,
      "outputs": []
    },
    {
      "cell_type": "code",
      "source": [
        "# Feature normalization\n",
        "scaler = preprocessing.StandardScaler().fit(X_train)\n",
        "X_train = scaler.transform(X_train)\n",
        "X_test = scaler.transform(X_test)"
      ],
      "metadata": {
        "id": "w-6bvJS0xalS"
      },
      "execution_count": 9,
      "outputs": []
    },
    {
      "cell_type": "markdown",
      "source": [
        "# **Passo 4**: Inicialização do modelo"
      ],
      "metadata": {
        "id": "Lml6i7SNxnZN"
      }
    },
    {
      "cell_type": "code",
      "source": [
        "model = tf.keras.models.Sequential()\n",
        "\n",
        "model.add(tf.keras.Input(shape=(X_train.shape[-1])))\n",
        "model.add(tf.keras.layers.Dense(50, activation='sigmoid'))\n",
        "model.add(tf.keras.layers.Dense(50, activation='sigmoid'))\n",
        "model.add(tf.keras.layers.Dense(1, activation='linear'))"
      ],
      "metadata": {
        "id": "RqRWvfxOxr21"
      },
      "execution_count": 10,
      "outputs": []
    },
    {
      "cell_type": "markdown",
      "source": [
        "Compilar o modelo"
      ],
      "metadata": {
        "id": "x-k73wqXx-A8"
      }
    },
    {
      "cell_type": "code",
      "source": [
        "model.compile(optimizer='sgd', loss='mean_squared_error',\n",
        "              metrics=['mean_squared_error', 'mean_absolute_percentage_error'])"
      ],
      "metadata": {
        "id": "Z2lC84IGx6JM"
      },
      "execution_count": 11,
      "outputs": []
    },
    {
      "cell_type": "code",
      "source": [
        "model.summary()"
      ],
      "metadata": {
        "colab": {
          "base_uri": "https://localhost:8080/"
        },
        "id": "8-Szc32ayVh9",
        "outputId": "a55e1a32-ac8a-4e23-d995-69a92135e1e4"
      },
      "execution_count": 12,
      "outputs": [
        {
          "output_type": "stream",
          "name": "stdout",
          "text": [
            "Model: \"sequential\"\n",
            "_________________________________________________________________\n",
            " Layer (type)                Output Shape              Param #   \n",
            "=================================================================\n",
            " dense (Dense)               (None, 50)                250       \n",
            "                                                                 \n",
            " dense_1 (Dense)             (None, 50)                2550      \n",
            "                                                                 \n",
            " dense_2 (Dense)             (None, 1)                 51        \n",
            "                                                                 \n",
            "=================================================================\n",
            "Total params: 2,851\n",
            "Trainable params: 2,851\n",
            "Non-trainable params: 0\n",
            "_________________________________________________________________\n"
          ]
        }
      ]
    },
    {
      "cell_type": "markdown",
      "source": [
        "# **Passo 5**: Treino do modelo"
      ],
      "metadata": {
        "id": "dGmOaXdhyPmd"
      }
    },
    {
      "cell_type": "code",
      "source": [
        "callback = tf.keras.callbacks.EarlyStopping(monitor='val_loss', patience=10, min_delta=0.1)"
      ],
      "metadata": {
        "id": "x_uw4romx6HH"
      },
      "execution_count": 13,
      "outputs": []
    },
    {
      "cell_type": "code",
      "source": [
        "history = model.fit(X_train, y_train, epochs=50, batch_size=64, callbacks=[callback], validation_split=0.3)"
      ],
      "metadata": {
        "colab": {
          "base_uri": "https://localhost:8080/"
        },
        "id": "LNGBx4fsx6FE",
        "outputId": "481c7dab-7d4e-495e-a264-fd5b8f7f1581"
      },
      "execution_count": 14,
      "outputs": [
        {
          "output_type": "stream",
          "name": "stdout",
          "text": [
            "Epoch 1/50\n",
            "159/159 [==============================] - 4s 14ms/step - loss: 1.3361 - mean_squared_error: 1.3361 - mean_absolute_percentage_error: 60.8466 - val_loss: 1.3946 - val_mean_squared_error: 1.3946 - val_mean_absolute_percentage_error: 46.4626\n",
            "Epoch 2/50\n",
            "159/159 [==============================] - 2s 12ms/step - loss: 1.2049 - mean_squared_error: 1.2049 - mean_absolute_percentage_error: 58.4065 - val_loss: 1.1599 - val_mean_squared_error: 1.1599 - val_mean_absolute_percentage_error: 48.0927\n",
            "Epoch 3/50\n",
            "159/159 [==============================] - 1s 6ms/step - loss: 1.0673 - mean_squared_error: 1.0673 - mean_absolute_percentage_error: 54.7884 - val_loss: 0.9739 - val_mean_squared_error: 0.9739 - val_mean_absolute_percentage_error: 57.0902\n",
            "Epoch 4/50\n",
            "159/159 [==============================] - 1s 5ms/step - loss: 0.9039 - mean_squared_error: 0.9039 - mean_absolute_percentage_error: 49.8338 - val_loss: 0.8319 - val_mean_squared_error: 0.8319 - val_mean_absolute_percentage_error: 40.1255\n",
            "Epoch 5/50\n",
            "159/159 [==============================] - 1s 6ms/step - loss: 0.7478 - mean_squared_error: 0.7478 - mean_absolute_percentage_error: 43.5953 - val_loss: 0.7406 - val_mean_squared_error: 0.7406 - val_mean_absolute_percentage_error: 51.1656\n",
            "Epoch 6/50\n",
            "159/159 [==============================] - 1s 4ms/step - loss: 0.6538 - mean_squared_error: 0.6538 - mean_absolute_percentage_error: 39.1790 - val_loss: 0.6475 - val_mean_squared_error: 0.6475 - val_mean_absolute_percentage_error: 32.9156\n",
            "Epoch 7/50\n",
            "159/159 [==============================] - 1s 5ms/step - loss: 0.6156 - mean_squared_error: 0.6156 - mean_absolute_percentage_error: 36.3938 - val_loss: 0.6337 - val_mean_squared_error: 0.6337 - val_mean_absolute_percentage_error: 40.7300\n",
            "Epoch 8/50\n",
            "159/159 [==============================] - 1s 7ms/step - loss: 0.6011 - mean_squared_error: 0.6011 - mean_absolute_percentage_error: 35.1132 - val_loss: 0.6582 - val_mean_squared_error: 0.6582 - val_mean_absolute_percentage_error: 43.3103\n",
            "Epoch 9/50\n",
            "159/159 [==============================] - 1s 5ms/step - loss: 0.5937 - mean_squared_error: 0.5937 - mean_absolute_percentage_error: 34.6137 - val_loss: 0.6050 - val_mean_squared_error: 0.6050 - val_mean_absolute_percentage_error: 31.7659\n",
            "Epoch 10/50\n",
            "159/159 [==============================] - 1s 7ms/step - loss: 0.5893 - mean_squared_error: 0.5893 - mean_absolute_percentage_error: 34.1228 - val_loss: 1.2945 - val_mean_squared_error: 1.2945 - val_mean_absolute_percentage_error: 74.9593\n",
            "Epoch 11/50\n",
            "159/159 [==============================] - 1s 5ms/step - loss: 0.5909 - mean_squared_error: 0.5909 - mean_absolute_percentage_error: 34.4830 - val_loss: 0.6322 - val_mean_squared_error: 0.6322 - val_mean_absolute_percentage_error: 29.0700\n",
            "Epoch 12/50\n",
            "159/159 [==============================] - 1s 4ms/step - loss: 0.5802 - mean_squared_error: 0.5802 - mean_absolute_percentage_error: 33.6680 - val_loss: 0.7514 - val_mean_squared_error: 0.7514 - val_mean_absolute_percentage_error: 29.1222\n",
            "Epoch 13/50\n",
            "159/159 [==============================] - 1s 6ms/step - loss: 0.5778 - mean_squared_error: 0.5778 - mean_absolute_percentage_error: 33.3235 - val_loss: 0.5829 - val_mean_squared_error: 0.5829 - val_mean_absolute_percentage_error: 31.5516\n",
            "Epoch 14/50\n",
            "159/159 [==============================] - 1s 7ms/step - loss: 0.5713 - mean_squared_error: 0.5713 - mean_absolute_percentage_error: 33.2315 - val_loss: 1.6783 - val_mean_squared_error: 1.6783 - val_mean_absolute_percentage_error: 87.1888\n",
            "Epoch 15/50\n",
            "159/159 [==============================] - 1s 9ms/step - loss: 0.5787 - mean_squared_error: 0.5787 - mean_absolute_percentage_error: 33.8033 - val_loss: 0.7582 - val_mean_squared_error: 0.7582 - val_mean_absolute_percentage_error: 50.6156\n",
            "Epoch 16/50\n",
            "159/159 [==============================] - 1s 5ms/step - loss: 0.5657 - mean_squared_error: 0.5657 - mean_absolute_percentage_error: 33.1453 - val_loss: 0.5878 - val_mean_squared_error: 0.5878 - val_mean_absolute_percentage_error: 29.2060\n"
          ]
        }
      ]
    },
    {
      "cell_type": "markdown",
      "source": [
        "Curva da função de perda de treino"
      ],
      "metadata": {
        "id": "JOaiA7ppyl-Z"
      }
    },
    {
      "cell_type": "code",
      "source": [
        "plt.plot(history.history['loss'])"
      ],
      "metadata": {
        "colab": {
          "base_uri": "https://localhost:8080/",
          "height": 306
        },
        "id": "0Jz4fwJgymFn",
        "outputId": "18d8d230-5e1e-44af-aead-7414812760ab"
      },
      "execution_count": 15,
      "outputs": [
        {
          "output_type": "execute_result",
          "data": {
            "text/plain": [
              "[<matplotlib.lines.Line2D at 0x7f35665b1e80>]"
            ]
          },
          "metadata": {},
          "execution_count": 15
        },
        {
          "output_type": "display_data",
          "data": {
            "text/plain": [
              "<Figure size 432x288 with 1 Axes>"
            ],
            "image/png": "[encoded data removed]"
          },
          "metadata": {}
        }
      ]
    },
    {
      "cell_type": "markdown",
      "source": [
        "Curva da função de perda de validação"
      ],
      "metadata": {
        "id": "uWezaAb2ymSD"
      }
    },
    {
      "cell_type": "code",
      "source": [
        "plt.plot(history.history['val_loss'])"
      ],
      "metadata": {
        "colab": {
          "base_uri": "https://localhost:8080/",
          "height": 306
        },
        "id": "Meh8Qr_pymYk",
        "outputId": "a4a66486-5f27-4149-8748-24f3c4e8e8b7"
      },
      "execution_count": 16,
      "outputs": [
        {
          "output_type": "execute_result",
          "data": {
            "text/plain": [
              "[<matplotlib.lines.Line2D at 0x7f356aa45250>]"
            ]
          },
          "metadata": {},
          "execution_count": 16
        },
        {
          "output_type": "display_data",
          "data": {
            "text/plain": [
              "<Figure size 432x288 with 1 Axes>"
            ],
            "image/png": "[encoded data removed]"
          },
          "metadata": {}
        }
      ]
    },
    {
      "cell_type": "markdown",
      "source": [
        "# **Passo 6**: Avaliação do modelo"
      ],
      "metadata": {
        "id": "W4Flz4K5zqbU"
      }
    },
    {
      "cell_type": "code",
      "source": [
        "train_loss = model.evaluate(X_train, y_train)"
      ],
      "metadata": {
        "colab": {
          "base_uri": "https://localhost:8080/"
        },
        "id": "GgFydvLLzEGD",
        "outputId": "7cb93315-56ff-43a5-8358-ddc7f581d9e2"
      },
      "execution_count": 17,
      "outputs": [
        {
          "output_type": "stream",
          "name": "stdout",
          "text": [
            "452/452 [==============================] - 2s 4ms/step - loss: 0.5851 - mean_squared_error: 0.5851 - mean_absolute_percentage_error: 29.3763\n"
          ]
        }
      ]
    },
    {
      "cell_type": "code",
      "source": [
        "test_loss = model.evaluate(X_test, y_test)"
      ],
      "metadata": {
        "colab": {
          "base_uri": "https://localhost:8080/"
        },
        "id": "5sjxZdwBzEIG",
        "outputId": "06f67fd8-0444-4181-ea7f-f20ff5807524"
      },
      "execution_count": 18,
      "outputs": [
        {
          "output_type": "stream",
          "name": "stdout",
          "text": [
            "194/194 [==============================] - 1s 3ms/step - loss: 0.5996 - mean_squared_error: 0.5996 - mean_absolute_percentage_error: 30.1556\n"
          ]
        }
      ]
    },
    {
      "cell_type": "code",
      "source": [
        "y_pred_train = model.predict(X_train)  # cálculo das saídas\n",
        "\n",
        "y_pred_test_prob = model.predict(X_test)  # cálculo das saídas"
      ],
      "metadata": {
        "colab": {
          "base_uri": "https://localhost:8080/"
        },
        "id": "NGgWd8cVzEKT",
        "outputId": "a45a745e-e13c-4e71-ca6b-a27e3577fd19"
      },
      "execution_count": 19,
      "outputs": [
        {
          "output_type": "stream",
          "name": "stdout",
          "text": [
            "452/452 [==============================] - 1s 2ms/step\n",
            "194/194 [==============================] - 1s 3ms/step\n"
          ]
        }
      ]
    },
    {
      "cell_type": "markdown",
      "source": [
        "# Exercício\n",
        "\n",
        "Crie uma rede neuronal capaz de predizer, através das diferentes _features_, o consumo de combustível no ciclo da cidade em milhas por galão.\n",
        "\n",
        "O conjunto de dados pode ser carregado da seguinte forma:\n",
        "\n",
        "```python\n",
        "import pandas as pd\n",
        "\n",
        "column_names = ['MPG', 'Cylinders', 'Displacement', 'Horsepower', 'Weight', 'Acceleration', 'Model Year', 'Origin']\n",
        "\n",
        "dataset = pd.read_csv('https://archive.ics.uci.edu/ml/machine-learning-databases/auto-mpg/auto-mpg.data', names=column_names, na_values='?', comment='\\t', sep=' ', skipinitialspace=True)\n",
        "```\n",
        "\n",
        "A rede neuronal deverá possuir uma camada oculta (com 10 unidades), com a função de ativação sigmoid.\n",
        "\n",
        "Implemente paragem antecipada no conjunto de dados de validação, com um valor de ``patience`` e de ``min_delta`` escolhidos por si. Os dados de validação deverão consistir de 20% dos dados de treino (65% de todos os dados).\n",
        "\n",
        "Para treinar a rede, utilize um algoritmo de otimização diferente do gradiente descendente estocástico. Defina, por exemplo, ``epochs=50`` e ``batch_size=64``.\n",
        "\n",
        "Avalie o modelo e compare-o com um modelo com mais camadas ocultas (por exemplo, 2 camadas ocultas).\n",
        "\n",
        "**Sugestão**: Remova, do conjunto de dados, as linhas com dados inválidos. Use, por exemplo, a função ``df.dropna``."
      ],
      "metadata": {
        "id": "GFx4qhF4nR_J"
      }
    },
    {
      "cell_type": "code",
      "source": [
        "import pandas as pd\n",
        "\n",
        "column_names = ['MPG', 'Cylinders', 'Displacement', 'Horsepower', 'Weight', 'Acceleration', 'Model Year', 'Origin']\n",
        "\n",
        "dataset = pd.read_csv('https://archive.ics.uci.edu/ml/machine-learning-databases/auto-mpg/auto-mpg.data',\n",
        "                      names=column_names, na_values='?', comment='\\t', sep=' ', skipinitialspace=True)\n",
        "\n",
        "dataset.dropna(inplace=True)\n",
        "\n",
        "y, X = dataset[column_names[0]], dataset[column_names[1:]]"
      ],
      "metadata": {
        "id": "81Er5rtanmw6"
      },
      "execution_count": 20,
      "outputs": []
    },
    {
      "cell_type": "code",
      "source": [
        "X_train, X_test, y_train, y_test = train_test_split(X, y, test_size=.35)"
      ],
      "metadata": {
        "id": "kM2V8XRnqI5W"
      },
      "execution_count": 21,
      "outputs": []
    },
    {
      "cell_type": "code",
      "source": [
        "scaler = preprocessing.StandardScaler().fit(X_train)\n",
        "X_train = scaler.transform(X_train)\n",
        "X_test = scaler.transform(X_test)"
      ],
      "metadata": {
        "id": "RZgxenyTrEds"
      },
      "execution_count": 22,
      "outputs": []
    },
    {
      "cell_type": "code",
      "source": [
        "model = tf.keras.models.Sequential()\n",
        "\n",
        "model.add(tf.keras.Input(shape=(X_train.shape[-1])))\n",
        "model.add(tf.keras.layers.Dense(10, activation='sigmoid'))\n",
        "model.add(tf.keras.layers.Dense(1, activation='linear'))"
      ],
      "metadata": {
        "id": "Qp9LAEgtqI7r"
      },
      "execution_count": 23,
      "outputs": []
    },
    {
      "cell_type": "code",
      "source": [
        "callback = tf.keras.callbacks.EarlyStopping(monitor='val_loss', patience=10, min_delta=0.2)"
      ],
      "metadata": {
        "id": "uyudBnSvrIwi"
      },
      "execution_count": 24,
      "outputs": []
    },
    {
      "cell_type": "code",
      "source": [
        "model.compile(optimizer='SGD', loss='mean_squared_error',\n",
        "              metrics=['mean_squared_error', 'mean_absolute_percentage_error'])"
      ],
      "metadata": {
        "id": "_wW3A8UmsFrW"
      },
      "execution_count": 25,
      "outputs": []
    },
    {
      "cell_type": "code",
      "source": [
        "history = model.fit(X_train, y_train, epochs=50, batch_size=64, callbacks=[callback], validation_split=0.2)"
      ],
      "metadata": {
        "colab": {
          "base_uri": "https://localhost:8080/"
        },
        "id": "E64-Fz6Dr-cr",
        "outputId": "357add64-ee1e-443e-9429-b3374775320f"
      },
      "execution_count": 26,
      "outputs": [
        {
          "output_type": "stream",
          "name": "stdout",
          "text": [
            "Epoch 1/50\n",
            "4/4 [==============================] - 1s 132ms/step - loss: 564.1052 - mean_squared_error: 564.1052 - mean_absolute_percentage_error: 93.4952 - val_loss: 358.2991 - val_mean_squared_error: 358.2991 - val_mean_absolute_percentage_error: 74.2534\n",
            "Epoch 2/50\n",
            "4/4 [==============================] - 0s 24ms/step - loss: 319.7426 - mean_squared_error: 319.7426 - mean_absolute_percentage_error: 66.7289 - val_loss: 168.8714 - val_mean_squared_error: 168.8714 - val_mean_absolute_percentage_error: 48.9011\n",
            "Epoch 3/50\n",
            "4/4 [==============================] - 0s 15ms/step - loss: 153.1011 - mean_squared_error: 153.1011 - mean_absolute_percentage_error: 43.4803 - val_loss: 63.3004 - val_mean_squared_error: 63.3004 - val_mean_absolute_percentage_error: 27.6362\n",
            "Epoch 4/50\n",
            "4/4 [==============================] - 0s 14ms/step - loss: 65.0831 - mean_squared_error: 65.0831 - mean_absolute_percentage_error: 25.7209 - val_loss: 29.8450 - val_mean_squared_error: 29.8450 - val_mean_absolute_percentage_error: 18.5012\n",
            "Epoch 5/50\n",
            "4/4 [==============================] - 0s 15ms/step - loss: 35.8201 - mean_squared_error: 35.8201 - mean_absolute_percentage_error: 17.3613 - val_loss: 17.4767 - val_mean_squared_error: 17.4767 - val_mean_absolute_percentage_error: 14.6665\n",
            "Epoch 6/50\n",
            "4/4 [==============================] - 0s 13ms/step - loss: 23.8000 - mean_squared_error: 23.8000 - mean_absolute_percentage_error: 14.7371 - val_loss: 14.7585 - val_mean_squared_error: 14.7585 - val_mean_absolute_percentage_error: 13.3403\n",
            "Epoch 7/50\n",
            "4/4 [==============================] - 0s 20ms/step - loss: 20.4656 - mean_squared_error: 20.4656 - mean_absolute_percentage_error: 13.5651 - val_loss: 13.7259 - val_mean_squared_error: 13.7259 - val_mean_absolute_percentage_error: 12.8910\n",
            "Epoch 8/50\n",
            "4/4 [==============================] - 0s 27ms/step - loss: 18.8401 - mean_squared_error: 18.8401 - mean_absolute_percentage_error: 13.1183 - val_loss: 13.5262 - val_mean_squared_error: 13.5262 - val_mean_absolute_percentage_error: 13.1498\n",
            "Epoch 9/50\n",
            "4/4 [==============================] - 0s 25ms/step - loss: 17.2781 - mean_squared_error: 17.2781 - mean_absolute_percentage_error: 13.2549 - val_loss: 13.0603 - val_mean_squared_error: 13.0603 - val_mean_absolute_percentage_error: 12.7395\n",
            "Epoch 10/50\n",
            "4/4 [==============================] - 0s 28ms/step - loss: 16.7109 - mean_squared_error: 16.7109 - mean_absolute_percentage_error: 12.8131 - val_loss: 12.7672 - val_mean_squared_error: 12.7672 - val_mean_absolute_percentage_error: 12.5558\n",
            "Epoch 11/50\n",
            "4/4 [==============================] - 0s 16ms/step - loss: 16.0547 - mean_squared_error: 16.0547 - mean_absolute_percentage_error: 12.5130 - val_loss: 12.4231 - val_mean_squared_error: 12.4231 - val_mean_absolute_percentage_error: 12.3394\n",
            "Epoch 12/50\n",
            "4/4 [==============================] - 0s 35ms/step - loss: 15.6808 - mean_squared_error: 15.6808 - mean_absolute_percentage_error: 12.2476 - val_loss: 12.0496 - val_mean_squared_error: 12.0496 - val_mean_absolute_percentage_error: 12.1055\n",
            "Epoch 13/50\n",
            "4/4 [==============================] - 0s 31ms/step - loss: 15.3958 - mean_squared_error: 15.3958 - mean_absolute_percentage_error: 11.9566 - val_loss: 12.7260 - val_mean_squared_error: 12.7260 - val_mean_absolute_percentage_error: 12.6038\n",
            "Epoch 14/50\n",
            "4/4 [==============================] - 0s 23ms/step - loss: 15.0339 - mean_squared_error: 15.0339 - mean_absolute_percentage_error: 12.2960 - val_loss: 12.1290 - val_mean_squared_error: 12.1290 - val_mean_absolute_percentage_error: 12.2849\n",
            "Epoch 15/50\n",
            "4/4 [==============================] - 0s 19ms/step - loss: 14.7358 - mean_squared_error: 14.7358 - mean_absolute_percentage_error: 11.9584 - val_loss: 12.3603 - val_mean_squared_error: 12.3603 - val_mean_absolute_percentage_error: 12.3695\n",
            "Epoch 16/50\n",
            "4/4 [==============================] - 0s 22ms/step - loss: 14.4744 - mean_squared_error: 14.4744 - mean_absolute_percentage_error: 11.9989 - val_loss: 11.7068 - val_mean_squared_error: 11.7068 - val_mean_absolute_percentage_error: 12.0954\n",
            "Epoch 17/50\n",
            "4/4 [==============================] - 0s 14ms/step - loss: 14.1296 - mean_squared_error: 14.1296 - mean_absolute_percentage_error: 11.8071 - val_loss: 11.4487 - val_mean_squared_error: 11.4487 - val_mean_absolute_percentage_error: 11.9345\n",
            "Epoch 18/50\n",
            "4/4 [==============================] - 0s 18ms/step - loss: 13.9126 - mean_squared_error: 13.9126 - mean_absolute_percentage_error: 11.7031 - val_loss: 11.2127 - val_mean_squared_error: 11.2127 - val_mean_absolute_percentage_error: 11.7501\n",
            "Epoch 19/50\n",
            "4/4 [==============================] - 0s 39ms/step - loss: 13.7144 - mean_squared_error: 13.7144 - mean_absolute_percentage_error: 11.4179 - val_loss: 11.1497 - val_mean_squared_error: 11.1497 - val_mean_absolute_percentage_error: 11.6740\n",
            "Epoch 20/50\n",
            "4/4 [==============================] - 0s 32ms/step - loss: 13.5685 - mean_squared_error: 13.5685 - mean_absolute_percentage_error: 11.2960 - val_loss: 11.5177 - val_mean_squared_error: 11.5177 - val_mean_absolute_percentage_error: 11.8099\n",
            "Epoch 21/50\n",
            "4/4 [==============================] - 0s 19ms/step - loss: 13.3362 - mean_squared_error: 13.3362 - mean_absolute_percentage_error: 11.3353 - val_loss: 11.7760 - val_mean_squared_error: 11.7760 - val_mean_absolute_percentage_error: 11.9600\n",
            "Epoch 22/50\n",
            "4/4 [==============================] - 0s 25ms/step - loss: 13.1804 - mean_squared_error: 13.1804 - mean_absolute_percentage_error: 11.4019 - val_loss: 10.9933 - val_mean_squared_error: 10.9933 - val_mean_absolute_percentage_error: 11.6369\n",
            "Epoch 23/50\n",
            "4/4 [==============================] - 0s 33ms/step - loss: 12.8319 - mean_squared_error: 12.8319 - mean_absolute_percentage_error: 11.1645 - val_loss: 10.4492 - val_mean_squared_error: 10.4492 - val_mean_absolute_percentage_error: 11.3037\n",
            "Epoch 24/50\n",
            "4/4 [==============================] - 0s 18ms/step - loss: 12.6096 - mean_squared_error: 12.6096 - mean_absolute_percentage_error: 10.8682 - val_loss: 10.3477 - val_mean_squared_error: 10.3477 - val_mean_absolute_percentage_error: 11.2502\n",
            "Epoch 25/50\n",
            "4/4 [==============================] - 0s 24ms/step - loss: 12.4829 - mean_squared_error: 12.4829 - mean_absolute_percentage_error: 10.9206 - val_loss: 10.0536 - val_mean_squared_error: 10.0536 - val_mean_absolute_percentage_error: 11.0146\n",
            "Epoch 26/50\n",
            "4/4 [==============================] - 0s 21ms/step - loss: 12.2829 - mean_squared_error: 12.2829 - mean_absolute_percentage_error: 10.5692 - val_loss: 10.0118 - val_mean_squared_error: 10.0118 - val_mean_absolute_percentage_error: 11.0119\n",
            "Epoch 27/50\n",
            "4/4 [==============================] - 0s 13ms/step - loss: 12.1352 - mean_squared_error: 12.1352 - mean_absolute_percentage_error: 10.6523 - val_loss: 9.4527 - val_mean_squared_error: 9.4527 - val_mean_absolute_percentage_error: 10.7009\n",
            "Epoch 28/50\n",
            "4/4 [==============================] - 0s 22ms/step - loss: 12.0018 - mean_squared_error: 12.0018 - mean_absolute_percentage_error: 10.4173 - val_loss: 9.5399 - val_mean_squared_error: 9.5399 - val_mean_absolute_percentage_error: 10.8125\n",
            "Epoch 29/50\n",
            "4/4 [==============================] - 0s 22ms/step - loss: 11.7607 - mean_squared_error: 11.7607 - mean_absolute_percentage_error: 10.4345 - val_loss: 9.7004 - val_mean_squared_error: 9.7004 - val_mean_absolute_percentage_error: 10.9163\n",
            "Epoch 30/50\n",
            "4/4 [==============================] - 0s 16ms/step - loss: 11.6096 - mean_squared_error: 11.6096 - mean_absolute_percentage_error: 10.4969 - val_loss: 9.4401 - val_mean_squared_error: 9.4401 - val_mean_absolute_percentage_error: 10.7227\n",
            "Epoch 31/50\n",
            "4/4 [==============================] - 0s 29ms/step - loss: 11.4750 - mean_squared_error: 11.4750 - mean_absolute_percentage_error: 10.2877 - val_loss: 9.4853 - val_mean_squared_error: 9.4853 - val_mean_absolute_percentage_error: 10.7298\n",
            "Epoch 32/50\n",
            "4/4 [==============================] - 0s 29ms/step - loss: 11.2815 - mean_squared_error: 11.2815 - mean_absolute_percentage_error: 10.3566 - val_loss: 9.1313 - val_mean_squared_error: 9.1313 - val_mean_absolute_percentage_error: 10.5669\n",
            "Epoch 33/50\n",
            "4/4 [==============================] - 0s 52ms/step - loss: 11.1355 - mean_squared_error: 11.1355 - mean_absolute_percentage_error: 10.1918 - val_loss: 10.0910 - val_mean_squared_error: 10.0910 - val_mean_absolute_percentage_error: 11.2837\n",
            "Epoch 34/50\n",
            "4/4 [==============================] - 0s 22ms/step - loss: 11.0316 - mean_squared_error: 11.0316 - mean_absolute_percentage_error: 10.5674 - val_loss: 9.1608 - val_mean_squared_error: 9.1608 - val_mean_absolute_percentage_error: 10.6421\n",
            "Epoch 35/50\n",
            "4/4 [==============================] - 0s 22ms/step - loss: 10.7531 - mean_squared_error: 10.7531 - mean_absolute_percentage_error: 10.2191 - val_loss: 8.5725 - val_mean_squared_error: 8.5725 - val_mean_absolute_percentage_error: 10.2424\n",
            "Epoch 36/50\n",
            "4/4 [==============================] - 0s 26ms/step - loss: 10.6092 - mean_squared_error: 10.6092 - mean_absolute_percentage_error: 10.0752 - val_loss: 8.2829 - val_mean_squared_error: 8.2829 - val_mean_absolute_percentage_error: 9.9997\n",
            "Epoch 37/50\n",
            "4/4 [==============================] - 0s 31ms/step - loss: 10.5197 - mean_squared_error: 10.5197 - mean_absolute_percentage_error: 9.8930 - val_loss: 8.6394 - val_mean_squared_error: 8.6394 - val_mean_absolute_percentage_error: 10.2419\n",
            "Epoch 38/50\n",
            "4/4 [==============================] - 0s 18ms/step - loss: 10.3655 - mean_squared_error: 10.3655 - mean_absolute_percentage_error: 9.9910 - val_loss: 8.6794 - val_mean_squared_error: 8.6794 - val_mean_absolute_percentage_error: 10.2618\n",
            "Epoch 39/50\n",
            "4/4 [==============================] - 0s 18ms/step - loss: 10.2059 - mean_squared_error: 10.2059 - mean_absolute_percentage_error: 9.9082 - val_loss: 8.6058 - val_mean_squared_error: 8.6058 - val_mean_absolute_percentage_error: 10.2481\n",
            "Epoch 40/50\n",
            "4/4 [==============================] - 0s 16ms/step - loss: 10.0440 - mean_squared_error: 10.0440 - mean_absolute_percentage_error: 9.9235 - val_loss: 9.0735 - val_mean_squared_error: 9.0735 - val_mean_absolute_percentage_error: 10.7785\n",
            "Epoch 41/50\n",
            "4/4 [==============================] - 0s 17ms/step - loss: 10.0397 - mean_squared_error: 10.0397 - mean_absolute_percentage_error: 10.1058 - val_loss: 8.3208 - val_mean_squared_error: 8.3208 - val_mean_absolute_percentage_error: 10.0523\n",
            "Epoch 42/50\n",
            "4/4 [==============================] - 0s 26ms/step - loss: 9.8036 - mean_squared_error: 9.8036 - mean_absolute_percentage_error: 9.6511 - val_loss: 8.5013 - val_mean_squared_error: 8.5013 - val_mean_absolute_percentage_error: 10.2615\n",
            "Epoch 43/50\n",
            "4/4 [==============================] - 0s 13ms/step - loss: 9.7316 - mean_squared_error: 9.7316 - mean_absolute_percentage_error: 9.7236 - val_loss: 8.1915 - val_mean_squared_error: 8.1915 - val_mean_absolute_percentage_error: 10.0085\n",
            "Epoch 44/50\n",
            "4/4 [==============================] - 0s 22ms/step - loss: 9.6073 - mean_squared_error: 9.6073 - mean_absolute_percentage_error: 9.5616 - val_loss: 8.0083 - val_mean_squared_error: 8.0083 - val_mean_absolute_percentage_error: 9.8666\n",
            "Epoch 45/50\n",
            "4/4 [==============================] - 0s 29ms/step - loss: 9.5794 - mean_squared_error: 9.5794 - mean_absolute_percentage_error: 9.4637 - val_loss: 7.8284 - val_mean_squared_error: 7.8284 - val_mean_absolute_percentage_error: 9.7048\n",
            "Epoch 46/50\n",
            "4/4 [==============================] - 0s 23ms/step - loss: 9.4573 - mean_squared_error: 9.4573 - mean_absolute_percentage_error: 9.4220 - val_loss: 7.8788 - val_mean_squared_error: 7.8788 - val_mean_absolute_percentage_error: 9.7387\n",
            "Epoch 47/50\n",
            "4/4 [==============================] - 0s 16ms/step - loss: 9.3430 - mean_squared_error: 9.3430 - mean_absolute_percentage_error: 9.4346 - val_loss: 7.7083 - val_mean_squared_error: 7.7083 - val_mean_absolute_percentage_error: 9.5668\n",
            "Epoch 48/50\n",
            "4/4 [==============================] - 0s 19ms/step - loss: 9.2647 - mean_squared_error: 9.2647 - mean_absolute_percentage_error: 9.2742 - val_loss: 8.0216 - val_mean_squared_error: 8.0216 - val_mean_absolute_percentage_error: 9.9072\n",
            "Epoch 49/50\n",
            "4/4 [==============================] - 0s 15ms/step - loss: 9.1685 - mean_squared_error: 9.1685 - mean_absolute_percentage_error: 9.4513 - val_loss: 7.6176 - val_mean_squared_error: 7.6176 - val_mean_absolute_percentage_error: 9.5517\n",
            "Epoch 50/50\n",
            "4/4 [==============================] - 0s 42ms/step - loss: 9.0888 - mean_squared_error: 9.0888 - mean_absolute_percentage_error: 9.1643 - val_loss: 7.9325 - val_mean_squared_error: 7.9325 - val_mean_absolute_percentage_error: 9.7822\n"
          ]
        }
      ]
    },
    {
      "cell_type": "code",
      "source": [
        "model.evaluate(X_test, y_test)"
      ],
      "metadata": {
        "colab": {
          "base_uri": "https://localhost:8080/"
        },
        "id": "MyZKFaxiuf-2",
        "outputId": "c2411dea-769c-45a7-ef5b-131b37dd7c02"
      },
      "execution_count": 27,
      "outputs": [
        {
          "output_type": "stream",
          "name": "stdout",
          "text": [
            "5/5 [==============================] - 0s 5ms/step - loss: 10.2789 - mean_squared_error: 10.2789 - mean_absolute_percentage_error: 9.8612\n"
          ]
        },
        {
          "output_type": "execute_result",
          "data": {
            "text/plain": [
              "[10.278902053833008, 10.278902053833008, 9.861218452453613]"
            ]
          },
          "metadata": {},
          "execution_count": 27
        }
      ]
    }
  ]
}